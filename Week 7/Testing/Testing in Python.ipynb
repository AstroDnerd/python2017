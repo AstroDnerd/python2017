{
 "cells": [
  {
   "cell_type": "markdown",
   "metadata": {
    "collapsed": true
   },
   "source": [
    "## Introduction"
   ]
  },
  {
   "cell_type": "markdown",
   "metadata": {},
   "source": [
    "When writing production standard code, your program must be tested at many different levels.  \n",
    "![alt text](testing_hierarchy.png \"Testing Pyramid\")"
   ]
  },
  {
   "cell_type": "markdown",
   "metadata": {},
   "source": [
    "For now, let us just talk about the lowest level of tests called `Unit Tests`. Lowest level doesn't mean `Unit Tests` are insignificant, it's quite the opposite. These tests make sure that your code is tested at atomic level. Only once all unit tests pass then you can move on to other types of tests in the pyramid."
   ]
  },
  {
   "cell_type": "markdown",
   "metadata": {},
   "source": [
    "General guidelines for unit tests :\n",
    "\n",
    " 1. Each test should focus on an atomic functionality.\n",
    " 2. A unit test should only test, and never change any data that it is testing.\n",
    " 3. Units tests should always be independent. What I mean is that, in a certain test file the order of unit tests should be interchangeable.\n",
    " 4. Use descriptive names for tester functions. This is because other people will need to look over the tests you wrote, modify or add more units tests to them."
   ]
  },
  {
   "cell_type": "markdown",
   "metadata": {},
   "source": [
    "## Various types of unittests in Python"
   ]
  },
  {
   "cell_type": "markdown",
   "metadata": {},
   "source": [
    "## Unittest"
   ]
  },
  {
   "cell_type": "markdown",
   "metadata": {},
   "source": [
    "`unittest` was the most frequently used unit testing module at one time. You define your own classes which subclasses the `unittest.TestCase` superclass."
   ]
  },
  {
   "cell_type": "code",
   "execution_count": 3,
   "metadata": {},
   "outputs": [
    {
     "name": "stderr",
     "output_type": "stream",
     "text": [
      "test_add (__main__.CalcTest) ... FAIL\n",
      "test_cube (__main__.CalcTest) ... ok\n",
      "test_square (__main__.CalcTest) ... ok\n",
      "\n",
      "======================================================================\n",
      "FAIL: test_add (__main__.CalcTest)\n",
      "----------------------------------------------------------------------\n",
      "Traceback (most recent call last):\n",
      "  File \"<ipython-input-3-de344eaec9d5>\", line 20, in test_add\n",
      "    self.assertTrue(add(3, 4) == 9)\n",
      "AssertionError: False is not true\n",
      "\n",
      "----------------------------------------------------------------------\n",
      "Ran 3 tests in 0.004s\n",
      "\n",
      "FAILED (failures=1)\n"
     ]
    },
    {
     "data": {
      "text/plain": [
       "<unittest.main.TestProgram at 0x7fcf7824f358>"
      ]
     },
     "execution_count": 3,
     "metadata": {},
     "output_type": "execute_result"
    }
   ],
   "source": [
    "import unittest\n",
    "\n",
    "def cube(x):\n",
    "    return x ** 3\n",
    "\n",
    "def square(x):\n",
    "    return x**2\n",
    "\n",
    "def add(x, y):\n",
    "    return x + y\n",
    "\n",
    "class CalcTest(unittest.TestCase):\n",
    "    def test_square(self):\n",
    "        self.assertTrue(square(3) == 9)\n",
    "        self.assertFalse(square(1) == 2)\n",
    "        with self.assertRaises(TypeError):\n",
    "            cube(\"Lite\")\n",
    "    \n",
    "    def test_add(self):\n",
    "        self.assertTrue(add(3, 4) == 9)\n",
    "\n",
    "    def test_cube(self):\n",
    "        self.assertEqual(cube(3), 27)\n",
    "\n",
    "unittest.main(argv=['first-arg-is-ignored'], exit=False, verbosity=2)"
   ]
  },
  {
   "cell_type": "markdown",
   "metadata": {},
   "source": [
    "You can go the [unittest docs](https://docs.python.org/3/library/unittest.html) if you're interested in knowing more about this module. We won't be focusing on this cause knowing PyTest is important."
   ]
  },
  {
   "cell_type": "markdown",
   "metadata": {},
   "source": [
    "## Doctest"
   ]
  },
  {
   "cell_type": "markdown",
   "metadata": {},
   "source": [
    "This module searches for pieces of text that resemble interactive Python sessions in docstrings, and then executes those lines of code to make sure they work. Mostly doctests are simple examples to give an idea of what the function is supposed to do.\n",
    "\n",
    "The main use of doctests are to improve the documentation of the module by showing some main use cases of the module and its components"
   ]
  },
  {
   "cell_type": "code",
   "execution_count": 5,
   "metadata": {},
   "outputs": [
    {
     "name": "stdout",
     "output_type": "stream",
     "text": [
      "**********************************************************************\n",
      "File \"__main__\", line 9, in __main__.concat\n",
      "Failed example:\n",
      "    concat('a','1')\n",
      "Expected:\n",
      "    'b 1'\n",
      "Got:\n",
      "    'a 1'\n",
      "**********************************************************************\n",
      "1 items had failures:\n",
      "   1 of   2 in __main__.concat\n",
      "***Test Failed*** 1 failures.\n"
     ]
    },
    {
     "data": {
      "text/plain": [
       "TestResults(failed=1, attempted=2)"
      ]
     },
     "execution_count": 5,
     "metadata": {},
     "output_type": "execute_result"
    }
   ],
   "source": [
    "import doctest\n",
    "\n",
    "def concat(*words, sep=\" \"):\n",
    "    \"\"\"Return a sentence from input words\n",
    "    separated by a separator(default being space)\n",
    "    \n",
    "    >>> concat('a','b','c', 'd')\n",
    "    'a b c d'\n",
    "    >>> concat('a','1')\n",
    "    'b 1'\n",
    "    \n",
    "    \"\"\"\n",
    "    return sep.join(words)\n",
    "\n",
    "doctest.testmod()"
   ]
  },
  {
   "cell_type": "markdown",
   "metadata": {},
   "source": [
    "## PyTest(py.test)"
   ]
  },
  {
   "cell_type": "markdown",
   "metadata": {},
   "source": [
    "py.test is the no-boilerplate alternative to the `unittest` module. It has a lot of features and most importantly can be easily extended due to its relatively simple syntax.\n",
    "\n",
    "Test suites are as simple as writing a module(python file) with couple of test methods.  \n",
    "Let us see some basic examples. To explore pytest better take a look at the [pytest docs](https://docs.pytest.org/en/latest/)."
   ]
  },
  {
   "cell_type": "markdown",
   "metadata": {},
   "source": [
    "# Travis CI"
   ]
  },
  {
   "cell_type": "markdown",
   "metadata": {},
   "source": [
    "Travis CI is a hosted, distributed continuous integration service used to build and test software projects hosted at GitHub. The best way to understand what it does is to actually create a test repository and then integrate it with Travis CI.  \n",
    "\n",
    "Let's get started !"
   ]
  }
 ],
 "metadata": {
  "kernelspec": {
   "display_name": "Python 3",
   "language": "python",
   "name": "python3"
  },
  "language_info": {
   "codemirror_mode": {
    "name": "ipython",
    "version": 3
   },
   "file_extension": ".py",
   "mimetype": "text/x-python",
   "name": "python",
   "nbconvert_exporter": "python",
   "pygments_lexer": "ipython3",
   "version": "3.5.2"
  }
 },
 "nbformat": 4,
 "nbformat_minor": 2
}
