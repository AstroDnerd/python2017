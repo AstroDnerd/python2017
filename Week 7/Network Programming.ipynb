{
 "cells": [
  {
   "cell_type": "markdown",
   "metadata": {},
   "source": [
    "# Network Programming\n",
    "----"
   ]
  },
  {
   "cell_type": "markdown",
   "metadata": {},
   "source": [
    "## Sockets"
   ]
  },
  {
   "cell_type": "markdown",
   "metadata": {},
   "source": [
    "- We have talked about varoius ways of getting networking. One way all of us are familiar are is HTTP, even FTP. Infact even bluetooth is a way of networking.\n",
    "\n",
    "- At the heart of networking is sockets. They form the lowest level of networking.\n",
    "\n"
   ]
  },
  {
   "cell_type": "code",
   "execution_count": null,
   "metadata": {
    "collapsed": true
   },
   "outputs": [],
   "source": [
    "import socket \n",
    "s = socket.socket(socket.AF_INET, socket.SOCK_STREAM)\n",
    "\n",
    "# This creates a socket\n",
    "\n",
    "# AF_INET => family ipv4. \n",
    "# SOCK_STREAM => TCP protocol."
   ]
  },
  {
   "cell_type": "markdown",
   "metadata": {},
   "source": [
    "\n",
    "- Sockets are the endpoints of a bidirectional communications channel. \n",
    "- Sockets can be used to communicate within a process, between processes on the same machine, or even between processes on different computers.\n",
    "\n",
    "- One socket(node) listens on a particular port at an IP, while other socket reaches out to the other to form a connection. \n",
    "- Server forms the listener socket while client reaches out to the server.\n",
    "\n",
    "-----\n",
    "\n",
    "- TCP protocol(Transmission Control Protocol ): \n",
    "     - TCP is a connection-oriented, UDP isnt.\n",
    "     - TCP is highly reliable, as in a packet is lost in trasnmission, it is resent. Also gaurentees the order of packets\n",
    "     - TCP is slow and UDP is fast\n",
    "     \n",
    "\n",
    "We will first try to make a simple TCP server and client\n"
   ]
  },
  {
   "cell_type": "code",
   "execution_count": null,
   "metadata": {
    "collapsed": true
   },
   "outputs": [],
   "source": [
    "import socket \n",
    "\n",
    "\n",
    "def client_handler(client_sock):\n",
    "    # Do things here\n",
    "\n",
    "    # .send() Takes byte type object\n",
    "    # b' it indicates that the literal should become a bytes literal in Python 3\n",
    "    client_sock.send(b'Thank you for connecting') \n",
    "\n",
    "    # Close the connection with the client\n",
    "    client_sock.close()\n",
    "\n",
    "\n",
    "# creates the socket\n",
    "server = socket.socket()\n",
    "\n",
    "PORT = 1234\n",
    "\n",
    "# bind the socket to the port. \n",
    "server.bind(('localhost',PORT))   # takes a tuple\n",
    "\n",
    "# at most 5 connections in the queue\n",
    "server.listen(5)   \n",
    "\n",
    "print(\"Listening for clients to connect\")\n",
    "\n",
    "while True:\n",
    " \n",
    "    # Establish connection with client.\n",
    "    client, addr = server.accept()     # waits until a connection arrives i.e (blocking).\n",
    "    print('Got connection from', addr)\n",
    "    client_handler(client)\n",
    "   "
   ]
  },
  {
   "cell_type": "markdown",
   "metadata": {
    "collapsed": true
   },
   "source": [
    "- To check if the socket is actually created one can check using the command `netstat -nlp` on the command line."
   ]
  },
  {
   "cell_type": "code",
   "execution_count": null,
   "metadata": {
    "collapsed": true
   },
   "outputs": [],
   "source": [
    "from socket import *\n",
    "\n",
    "PORT = 1234\n",
    "client = socket()\n",
    "\n",
    "address=(\"localhost\", PORT)\n",
    "\n",
    "# connect to the given address\n",
    "client.connect(address)\n",
    "\n",
    "print(client.recv(1024))\n",
    "\n",
    "client.close()"
   ]
  },
  {
   "cell_type": "markdown",
   "metadata": {},
   "source": [
    "- **Blocking Execution** : These functions/constructs stop main execution until its own execution ends. Also called synchronous. \n",
    "- **Non-Blocking** : These functions return immediately and continue execution sperately. Also called asynchronous. \n",
    "    - Can be obtained by the use of `async/await`\n",
    "    - Or by using threads."
   ]
  },
  {
   "cell_type": "markdown",
   "metadata": {},
   "source": [
    "## Threads"
   ]
  },
  {
   "cell_type": "markdown",
   "metadata": {},
   "source": [
    "- Threads are constructs that enable parallel (actually concurrent) execution of codes.\n",
    "- `Thread` class is available in the `threading` module.\n",
    "- One has to override the `run()` method of Thread class to inherit it.\n",
    "\n",
    "An example:\n",
    "    "
   ]
  },
  {
   "cell_type": "code",
   "execution_count": 5,
   "metadata": {},
   "outputs": [
    {
     "name": "stdout",
     "output_type": "stream",
     "text": [
      "#3(0) \n",
      "#3(1) #2(0) \n",
      "\n",
      "#2(1) #1(0) \n",
      "\n",
      "#1(1) \n",
      "#3(2) \n",
      "#2(2) \n",
      "#1(2) \n",
      "#3(3) #3(4) \n",
      "#2(3) #3(5) \n",
      "\n",
      "\n",
      "#2(5) #2(4) \n",
      "\n",
      "#1(5) #1(4) \n",
      "\n",
      "#1(3) #3(6) \n",
      "#2(6) \n",
      "#1(6) \n",
      "\n"
     ]
    }
   ],
   "source": [
    "from threading import *\n",
    "\n",
    "def lift_off(number):\n",
    "    for i in range(3,0, -1):\n",
    "        print(\"#\"+ str(i) + \"(\"+ str(number) + \") \")\n",
    "\n",
    "for x in range(7):\n",
    "    Thread(target=lift_off, args=(x,)).start()\n"
   ]
  },
  {
   "cell_type": "markdown",
   "metadata": {},
   "source": [
    "So the threads execute concurrently independent of each other."
   ]
  },
  {
   "cell_type": "code",
   "execution_count": 4,
   "metadata": {},
   "outputs": [
    {
     "name": "stdout",
     "output_type": "stream",
     "text": [
      "#3(5) \n",
      "#2(5) \n",
      "#1(5) \n",
      "#3(5) \n",
      "#2(5) #3(5) #3(5) #3(5) #3(5) #3(5) \n",
      "\n",
      "\n",
      "\n",
      "\n",
      "\n",
      "#1(5) #2(5) #2(5) #2(5) #2(5) #2(5) \n",
      "\n",
      "\n",
      "\n",
      "\n",
      "\n",
      "#1(5) #1(5) #1(5) #1(5) \n",
      "\n",
      "\n",
      "\n",
      "#1(5) \n"
     ]
    }
   ],
   "source": [
    "# Inheriting from the Thread class\n",
    "\n",
    "from threading import *\n",
    "\n",
    "class lift_off(Thread):\n",
    "    def __init__(self, number):\n",
    "        Thread.__init__(self)\n",
    "        self.number = number\n",
    "    def run(self):\n",
    "        for i in range(3,0, -1):\n",
    "            print(\"#\"+ str(i) + \"(\"+ str(self.number) + \") \")\n",
    "\n",
    "for x in range(7):\n",
    "    lift_off(5).start()"
   ]
  },
  {
   "cell_type": "markdown",
   "metadata": {},
   "source": [
    "\n",
    "\n",
    "Lets make a small chat application"
   ]
  },
  {
   "cell_type": "code",
   "execution_count": null,
   "metadata": {
    "collapsed": true
   },
   "outputs": [],
   "source": []
  }
 ],
 "metadata": {
  "kernelspec": {
   "display_name": "Python 3",
   "language": "python",
   "name": "python3"
  },
  "language_info": {
   "codemirror_mode": {
    "name": "ipython",
    "version": 3
   },
   "file_extension": ".py",
   "mimetype": "text/x-python",
   "name": "python",
   "nbconvert_exporter": "python",
   "pygments_lexer": "ipython3",
   "version": "3.6.1"
  }
 },
 "nbformat": 4,
 "nbformat_minor": 2
}
