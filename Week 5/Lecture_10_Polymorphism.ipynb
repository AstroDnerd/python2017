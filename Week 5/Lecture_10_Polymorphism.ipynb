{
 "cells": [
  {
   "cell_type": "markdown",
   "metadata": {},
   "source": [
    "# Object Oriented Programming - Polymorphism"
   ]
  },
  {
   "cell_type": "markdown",
   "metadata": {},
   "source": [
    "Polymorphism is the ability of an object to take on many forms. Say, If we have a button, there are many different draw outputs (round button, check button, square button, button with image) but they do share the same logic: **onClick()**.\n",
    "\n",
    "Polymorphism is based on the greek words Poly (many) and morphism (forms).  We will create a structure that can take or use many forms of objects."
   ]
  },
  {
   "cell_type": "markdown",
   "metadata": {},
   "source": [
    "## Polymorphism with a Function"
   ]
  },
  {
   "cell_type": "markdown",
   "metadata": {},
   "source": [
    "We create three classes:  ICICI, HDFC and SBI, every one of which has a unique interest rate.  We then intialize all the instances and get their interest using the same method."
   ]
  },
  {
   "cell_type": "code",
   "execution_count": null,
   "metadata": {
    "collapsed": true
   },
   "outputs": [],
   "source": [
    "class Bank(object):\n",
    "    def interestRate():\n",
    "        pass\n",
    "    \n",
    "class ICICI(Bank):\n",
    "    def interestRate(self):\n",
    "        return 8.12\n",
    "    \n",
    "class HDFC(Bank):\n",
    "    def interestRate(self):\n",
    "        return 5.3\n",
    "\n",
    "class SBI(Bank):\n",
    "    def interestRate(self):\n",
    "        return 0.5"
   ]
  },
  {
   "cell_type": "code",
   "execution_count": null,
   "metadata": {
    "collapsed": true
   },
   "outputs": [],
   "source": [
    "#def getInterestRate(bankType):\n",
    "#    return bankType.interestRate()"
   ]
  },
  {
   "cell_type": "code",
   "execution_count": null,
   "metadata": {
    "collapsed": true
   },
   "outputs": [],
   "source": [
    "accounts = [SBI(), ICICI(), HDFC()]\n",
    "\n",
    "for account in accounts:\n",
    "    print(account.interestRate())"
   ]
  },
  {
   "cell_type": "markdown",
   "metadata": {},
   "source": [
    "## Polymorphism with Abstract Classes"
   ]
  },
  {
   "cell_type": "markdown",
   "metadata": {},
   "source": [
    "An example would be to have an abstract class Bank which holds the function interestRate().\n",
    "\n",
    "We define three objects ICICI, HDFC and SBU, both are a form of Car. In pseudo code what we will do is:"
   ]
  },
  {
   "cell_type": "code",
   "execution_count": null,
   "metadata": {
    "collapsed": true
   },
   "outputs": [],
   "source": [
    "class Bank:\n",
    "    def __init__(self, name):\n",
    "        self.name = name\n",
    "        \n",
    "    def interestRate(self):\n",
    "        raise NotImplementedError('Subclass must implement abstract method')\n",
    "\n",
    "        \n",
    "class ICICI(Bank):\n",
    "    def interestRate(self):\n",
    "        return 8.12\n",
    "    \n",
    "class HDFC(Bank):\n",
    "    def interestRate(self):\n",
    "        return 5.3\n",
    "\n",
    "class SBI(Bank):\n",
    "    def interestRate(self):\n",
    "        return 0.5\n",
    "    \n",
    "accounts = [SBI('Arif'), ICICI('Sebastin'), HDFC('Mayank')]\n",
    "\n",
    "for account in accounts:\n",
    "    print(account.name + \" is getting an interest rate of : \" + str(account.interestRate()))"
   ]
  },
  {
   "cell_type": "code",
   "execution_count": null,
   "metadata": {},
   "outputs": [],
   "source": [
    "class A():\n",
    "    def save(self):\n",
    "        print(\"Save in A\")\n",
    "class B():\n",
    "    def save(self):\n",
    "        print(\"Save in B\")\n",
    "\n",
    "class C(A,B):\n",
    "    def __init__(self):\n",
    "        pass\n",
    "    \n",
    "a = A()\n",
    "c = C()\n",
    "b = B()\n",
    "\n",
    "super(A, c).save()\n"
   ]
  }
 ],
 "metadata": {
  "kernelspec": {
   "display_name": "Python 3",
   "language": "python",
   "name": "python3"
  },
  "language_info": {
   "codemirror_mode": {
    "name": "ipython",
    "version": 3
   },
   "file_extension": ".py",
   "mimetype": "text/x-python",
   "name": "python",
   "nbconvert_exporter": "python",
   "pygments_lexer": "ipython3",
   "version": "3.5.2"
  }
 },
 "nbformat": 4,
 "nbformat_minor": 2
}
