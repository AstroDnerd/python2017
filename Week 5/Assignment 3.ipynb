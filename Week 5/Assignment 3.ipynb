{
 "cells": [
  {
   "cell_type": "markdown",
   "metadata": {},
   "source": [
    "## Assignment 3"
   ]
  },
  {
   "cell_type": "markdown",
   "metadata": {},
   "source": [
    "#### Question 1 (5 Marks)"
   ]
  },
  {
   "cell_type": "markdown",
   "metadata": {},
   "source": [
    "Make a Tic Tac Toe game played by two human players . The board can have a structure similar to what's given below.\n",
    "\n",
    "\n",
    "Features to be present:\n",
    "1. Modular code, Use OOP paradigms.\n",
    "2. The program should exit after **n** games\n",
    "3. Maintain a scoreboard that is displayed after completion of every game.\n",
    "Draw gives each player a score of 1. A winner gets a score of 3\n",
    "\n",
    "Bonus Features (You will not be graded on these)\n",
    "1. Enable the users to select their customs nicks.\n",
    "2. Use simplegui to draw the board out.\n",
    "3. Make player two a computer player ( Make sure he never loses :P )\n",
    "----------------------------------------------------------------------------------------------------------------------------------------\n"
   ]
  },
  {
   "cell_type": "code",
   "execution_count": null,
   "metadata": {},
   "outputs": [],
   "source": [
    "'''\n",
    "----------- ---------- ----------- \n",
    "|          |         |    O      | \n",
    "----------- ---------- -----------  \n",
    "|     X    |         |           | \n",
    "----------- ---------- -----------\n",
    "|          |         |           | \n",
    "----------- ---------- -----------\n",
    "'''"
   ]
  },
  {
   "cell_type": "markdown",
   "metadata": {},
   "source": [
    "### Question 2 (5 marks)\n",
    "Universal Calculator\n",
    "Write a class calculator that implements the basic functionalities of a calculator, namely the 4 operators (+, -, /, *). Apart from int,float etc, the class should also be able to handle list and tuple data-types. The operators on lists and tuples are defined element wise. Assume that the length of the lists and the tuples are same.\n",
    "\n",
    "Example-  \n",
    "List1=[2,3,4]  \n",
    "List2=[0,4,2]  \n",
    "Then List1 \\* List2 should return [0,12,8].  \n",
    "Also, define the functionality to operate element-wise on list/tuple and integer/float data types.  \n",
    "Example-  \n",
    "a=2  \n",
    "Then a \\* List1 should return [4,6,8]  \n",
    "\n",
    "\n",
    "\n"
   ]
  },
  {
   "cell_type": "code",
   "execution_count": null,
   "metadata": {
    "collapsed": true
   },
   "outputs": [],
   "source": []
  }
 ],
 "metadata": {
  "kernelspec": {
   "display_name": "Python 3",
   "language": "python",
   "name": "python3"
  },
  "language_info": {
   "codemirror_mode": {
    "name": "ipython",
    "version": 3
   },
   "file_extension": ".py",
   "mimetype": "text/x-python",
   "name": "python",
   "nbconvert_exporter": "python",
   "pygments_lexer": "ipython3",
   "version": "3.5.2"
  }
 },
 "nbformat": 4,
 "nbformat_minor": 2
}
