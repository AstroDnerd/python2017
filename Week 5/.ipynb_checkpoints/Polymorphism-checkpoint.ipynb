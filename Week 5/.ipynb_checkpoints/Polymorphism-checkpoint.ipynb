{
 "cells": [
  {
   "cell_type": "markdown",
   "metadata": {},
   "source": [
    "## Polymorphism"
   ]
  },
  {
   "cell_type": "code",
   "execution_count": 15,
   "metadata": {
    "collapsed": true
   },
   "outputs": [],
   "source": [
    "class ICICI(object):\n",
    "    def interestRate(self):\n",
    "        return 8.12\n",
    "    \n",
    "class HDFC(object):\n",
    "    def interestRate(self):\n",
    "        return 5.3\n",
    "\n",
    "class SBI(object):\n",
    "    def interestRate(self):\n",
    "        return 0.5"
   ]
  },
  {
   "cell_type": "code",
   "execution_count": 16,
   "metadata": {
    "collapsed": true
   },
   "outputs": [],
   "source": [
    "def getInterestRate(bankType):\n",
    "    return bankType.interestRate()"
   ]
  },
  {
   "cell_type": "code",
   "execution_count": 17,
   "metadata": {},
   "outputs": [
    {
     "name": "stdout",
     "output_type": "stream",
     "text": [
      "0.5\n",
      "8.12\n",
      "5.3\n"
     ]
    }
   ],
   "source": [
    "accounts = [SBI(), ICICI(), HDFC()]\n",
    "\n",
    "for account in accounts:\n",
    "    print(getInterestRate(account))"
   ]
  },
  {
   "cell_type": "markdown",
   "metadata": {},
   "source": [
    "## Polymorphism with Abstract Classes"
   ]
  },
  {
   "cell_type": "code",
   "execution_count": 21,
   "metadata": {},
   "outputs": [
    {
     "name": "stdout",
     "output_type": "stream",
     "text": [
      "Arif is getting an interest rate of : 0.5\n",
      "Sebastin is getting an interest rate of : 8.12\n",
      "Mayank is getting an interest rate of : 5.3\n"
     ]
    }
   ],
   "source": [
    "class Bank:\n",
    "    def __init__(self, name):\n",
    "        self.name = name\n",
    "        \n",
    "    def interestRate(self):\n",
    "        raise NotImplementedError('Subclass must implement abstract method')\n",
    "\n",
    "        \n",
    "class ICICI(Bank):\n",
    "    def interestRate(self):\n",
    "        return 8.12\n",
    "    \n",
    "class HDFC(Bank):\n",
    "    def interestRate(self):\n",
    "        return 5.3\n",
    "\n",
    "class SBI(Bank):\n",
    "    def interestRate(self):\n",
    "        return 0.5\n",
    "    \n",
    "accounts = [SBI('Arif'), ICICI('Sebastin'), HDFC('Mayank')]\n",
    "\n",
    "for account in accounts:\n",
    "    print(account.name + \" is getting an interest rate of : \" + str(account.interestRate()))"
   ]
  },
  {
   "cell_type": "code",
   "execution_count": null,
   "metadata": {
    "collapsed": true
   },
   "outputs": [],
   "source": []
  }
 ],
 "metadata": {
  "kernelspec": {
   "display_name": "Python 3",
   "language": "python",
   "name": "python3"
  },
  "language_info": {
   "codemirror_mode": {
    "name": "ipython",
    "version": 3
   },
   "file_extension": ".py",
   "mimetype": "text/x-python",
   "name": "python",
   "nbconvert_exporter": "python",
   "pygments_lexer": "ipython3",
   "version": "3.6.1"
  }
 },
 "nbformat": 4,
 "nbformat_minor": 2
}
