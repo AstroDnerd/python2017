{
 "cells": [
  {
   "cell_type": "markdown",
   "metadata": {},
   "source": [
    "# Object Oriented Programming - Decorators and Multiple Inheritance"
   ]
  },
  {
   "cell_type": "markdown",
   "metadata": {},
   "source": [
    "## Decorators"
   ]
  },
  {
   "cell_type": "markdown",
   "metadata": {},
   "source": [
    "In mathematics higher order functions are ones which take function/s as arguments and return a function as a result. Such capabilites are implemented in Python by using decorators.\n",
    "\n",
    "Of course, you can implement a similar functionality using combination of `def` and `lambda`. However, it is generally unsafe practice to use `lambda` methods. In fact, the creator of Python language, Guido Van Rossum suggested its removal but the whole community of programmers was too used to it, protested against its removal and hence it remained.\n",
    "\n",
    "A decorator is a function which takes as input another function and extends its behaviour/capability without making any explicit changes to it.\n",
    "\n",
    "First of all you need to understand the idea of `first class objects`.\n",
    "\n",
    "A first class object is an language entity that can be treated as a native variable. That means it can be created, destroyed, passed as an argument to a function, printed as you wish, etc."
   ]
  },
  {
   "cell_type": "code",
   "execution_count": null,
   "metadata": {
    "collapsed": true
   },
   "outputs": [],
   "source": [
    "def func2(func1):\n",
    "    return func1 + 1\n",
    "\n",
    "def func3(func2, arg):# Here func2 is being passed as a parameter.\n",
    "    return func2(arg)\n",
    "\n",
    "print(func2(2))\n",
    "print(func3(func2, 3))\n"
   ]
  },
  {
   "cell_type": "code",
   "execution_count": null,
   "metadata": {
    "collapsed": true
   },
   "outputs": [],
   "source": [
    "def user_defined_decorator(function1):\n",
    "    def wrapper():\n",
    "        print(\"This statement is being printed before the passed function is called.\")\n",
    "        function1()\n",
    "        print(\"This statement is being printed after the passed function is called.\")\n",
    "\n",
    "    return wrapper\n",
    "\n",
    "@us\n",
    "def task():\n",
    "    print(\"Lite\")\n",
    "\n",
    "user_defined_decorator(task)()"
   ]
  },
  {
   "cell_type": "markdown",
   "metadata": {},
   "source": [
    "### Common decorators"
   ]
  },
  {
   "cell_type": "markdown",
   "metadata": {},
   "source": [
    "`@staticmethod` acts as a wrapper and informs the interpreter that the method is one which does not depend on the class or the object. It is just a method which is logical to include in the class body.\n",
    "\n",
    "`@classmethod` acts as a wrapper and informs the interpreter that the method is one which depends on the class. This can be clearly understood cause the first argument is interpreted as the class type. It is a method that is commonly shared by all objects of the class type."
   ]
  },
  {
   "cell_type": "code",
   "execution_count": null,
   "metadata": {
    "collapsed": true
   },
   "outputs": [],
   "source": [
    "class BITSian():\n",
    "    def __init__(self, name, bitsian=True):\n",
    "        self.name = name\n",
    "        self.bitsian = bitsian\n",
    "\n",
    "    @staticmethod\n",
    "    def is_object():\n",
    "        return True\n",
    "\n",
    "    def is_human(cls):\n",
    "        print(cls)\n",
    "        return True\n",
    "\n",
    "    def get_name(self):\n",
    "        print(self)\n",
    "        return self.name\n",
    "\n",
    "    def is_bitsian(self):\n",
    "        return str(self.name + \" is a BITSian : \" + str(self.bitsian))\n",
    "\n",
    "p = BITSian(\"Reuben D'Souza\")\n",
    "print(p.get_name())\n",
    "print(p.is_bitsian())\n",
    "\n",
    "# If @staticmethod wasn't there, then this would result in an error cause arguments don't match. \n",
    "print(p.is_object())\n",
    "\n",
    "# If @classmethod wasn't there, then this \"p\" would be interpreted as \"object\" type and not \"class\" type.\n",
    "print(classmethod(p.is_human)())"
   ]
  },
  {
   "cell_type": "code",
   "execution_count": null,
   "metadata": {},
   "outputs": [],
   "source": [
    "class BITSian():\n",
    "    def __init__(self, name, bitsian=True):\n",
    "        self.k = name\n",
    "        self.bitsian = bitsian\n",
    "\n",
    "    @staticmethod\n",
    "    def is_object():\n",
    "        return True\n",
    "\n",
    "    @classmethod\n",
    "    def is_human(cls):\n",
    "        return True\n",
    "\n",
    "    @property\n",
    "    def name(self):\n",
    "        print(\"TEST getter\")\n",
    "        return self.k\n",
    "    \n",
    "    @name.setter\n",
    "    def name(self, name):\n",
    "        print(\"TEST setter\")\n",
    "        self.k = name\n",
    "    \n",
    "    def is_bitsian(self):\n",
    "        return str(self.name + \" is a BITSian : \" + str(self.bitsian))\n",
    "    \n",
    "    def __str__(self):\n",
    "        return \"BITSian : \" + self.name\n",
    "    \n",
    "p = BITSian(\"Keerthana\")\n",
    "print(p)\n",
    "p.name =\"Rohan Prabhu\"\n",
    "print(p)"
   ]
  },
  {
   "cell_type": "markdown",
   "metadata": {},
   "source": [
    "`@slow, @XFAIL`, etc are decorators used in unit testing(i.e. pytest). They will make sense only when unit testing is taught."
   ]
  },
  {
   "cell_type": "markdown",
   "metadata": {
    "collapsed": true
   },
   "source": [
    "## Inheriting from Multiple Classes"
   ]
  },
  {
   "cell_type": "code",
   "execution_count": null,
   "metadata": {
    "collapsed": true
   },
   "outputs": [],
   "source": [
    "class A():\n",
    "    def save(self):\n",
    "        print(\"Save in A\")\n",
    "\n",
    "class B():\n",
    "    def save(self):\n",
    "        print(\"Save in B\")\n",
    "\n",
    "class C(A,B):\n",
    "    def __init__(self):\n",
    "        pass\n",
    "    \n",
    "a = A()\n",
    "c = C()\n",
    "b = B()"
   ]
  },
  {
   "cell_type": "markdown",
   "metadata": {},
   "source": [
    "## The Diamond Problem\n",
    "\n",
    "Consider a situation where there is one parentclass A and then two more subclasses B and C. Then consider a further subclass D inheriting from B and C both. If there be a method defined in A which is inherited in B and C and then overidden, which one will D use ? "
   ]
  },
  {
   "cell_type": "code",
   "execution_count": null,
   "metadata": {},
   "outputs": [],
   "source": [
    "class A:\n",
    "    def test(self):\n",
    "        print(\"Test of A called\")\n",
    "\n",
    "class B(A):\n",
    "    def test(self):\n",
    "        print(\"Test of B called\")\n",
    "    \n",
    "class C(A):\n",
    "    def test(self):\n",
    "        print(\"Test of C called\")\n",
    "\n",
    "class D(C, B):\n",
    "    pass\n",
    "\n",
    "print(D.mro())\n",
    "#d = D()\n",
    "#d.test()\n",
    "D.mro()[2].test(d)# This is a terrible thing to write in development level code!! Think about re-implementation."
   ]
  },
  {
   "cell_type": "markdown",
   "metadata": {},
   "source": [
    "If you write properly structured code then you should never run into the diamond paradox. If there are workarounds allowing you to override the Method Resolution Order and access the superclass B method then don't do it. Not advisable at all.\n",
    "\n",
    "Instead think about how to restructure your code."
   ]
  }
 ],
 "metadata": {
  "kernelspec": {
   "display_name": "Python 3",
   "language": "python",
   "name": "python3"
  },
  "language_info": {
   "codemirror_mode": {
    "name": "ipython",
    "version": 3
   },
   "file_extension": ".py",
   "mimetype": "text/x-python",
   "name": "python",
   "nbconvert_exporter": "python",
   "pygments_lexer": "ipython3",
   "version": "3.5.2"
  }
 },
 "nbformat": 4,
 "nbformat_minor": 2
}
