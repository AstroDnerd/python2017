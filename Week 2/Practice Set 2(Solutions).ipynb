{
 "cells": [
  {
   "cell_type": "markdown",
   "metadata": {},
   "source": [
    "Both these solutions are equivalent to the official ones.\n",
    "\n",
    "# Q1 Solution\n",
    "### Debarshi Deka (2017A8PS0494G)"
   ]
  },
  {
   "cell_type": "code",
   "execution_count": null,
   "metadata": {},
   "outputs": [],
   "source": [
    "n=input()\n",
    "a=n.split(\",\")\n",
    "b=[(sum(int(i[k]) for k in range(len(i)))) for i in a]\n",
    "d=dict(zip(a,b))\n",
    "for i in d:\n",
    "    print(i,\"~\",d[i])"
   ]
  },
  {
   "cell_type": "markdown",
   "metadata": {},
   "source": [
    "# Q2 Solution\n",
    "### Ishan Sang (2017A7PS0069G)"
   ]
  },
  {
   "cell_type": "code",
   "execution_count": null,
   "metadata": {},
   "outputs": [],
   "source": [
    "N=(int)(input())\n",
    " \n",
    "sequence=[[i+int((N*j)-((j*(j+1))/2))\n",
    "          for j in range(0,i)]\n",
    "          for i in range(1,N+1)]\n",
    " \n",
    "for i in sequence:\n",
    "    for j in i:\n",
    "        print(j,end=\" \")\n",
    "    print()"
   ]
  }
 ],
 "metadata": {
  "kernelspec": {
   "display_name": "Python 3",
   "language": "python",
   "name": "python3"
  },
  "language_info": {
   "codemirror_mode": {
    "name": "ipython",
    "version": 3
   },
   "file_extension": ".py",
   "mimetype": "text/x-python",
   "name": "python",
   "nbconvert_exporter": "python",
   "pygments_lexer": "ipython3",
   "version": "3.5.2"
  }
 },
 "nbformat": 4,
 "nbformat_minor": 2
}
