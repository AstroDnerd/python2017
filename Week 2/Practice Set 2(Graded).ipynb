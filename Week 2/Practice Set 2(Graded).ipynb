{
 "cells": [
  {
   "cell_type": "markdown",
   "metadata": {},
   "source": [
    "Q1(4 marks)\n",
    "------------\n",
    "\n",
    "Accept a sequence of comma separated integers as input and assign each of those numbers the sum of their digits.\n",
    "Store those key-value pairs in a dictionary. Use dict comprehension. Output should be exactly as shown below.\n",
    "     \n",
    "Also remember that your code should be readable, go through past notebooks for more clarification\n",
    "(that is, indent the one liner comprehension into a more readable block). One mark will be deducted if\n",
    "your code is not readable.\n",
    "    \n",
    "Of course, learn to Google what you don't know.\n",
    "Note that input is exactly as shown. There should be only one `input(.....)` in your code.\n",
    "    \n",
    "Example:\n",
    "\n",
    "Input:\n",
    "\n",
    "12,34,45,56,67,78,89  \n",
    "\n",
    "Output:\n",
    "\n",
    "12 ~ 3  \n",
    "34 ~ 7  \n",
    "45 ~ 9  \n",
    "56 ~ 11  \n",
    "67 ~ 13  \n",
    "78 ~ 15  \n",
    "89 ~ 17  \n",
    "\n",
    "\n",
    "\n",
    "Input:\n",
    "\n",
    "0, 94, 123, 654353  \n",
    "\n",
    "Output: \n",
    "\n",
    "0 ~ 0  \n",
    "94 ~ 13  \n",
    "123 ~ 6  \n",
    "654353 ~ 26  "
   ]
  },
  {
   "cell_type": "markdown",
   "metadata": {},
   "source": [
    "Q2(6 marks)\n",
    "------------\n",
    "\n",
    "Write a program to print the following pattern for a given number of lines. List comprehension should be used\n",
    "for creating the new list of lists/tuples and then double for-loop should be used for printing the pattern.\n",
    "\n",
    "In other words do not use the expensive `append()` operation\n",
    "\n",
    "Example:\n",
    "\n",
    "Input: 5\n",
    "\n",
    "Output:\n",
    "\n",
    "1  \n",
    "2 6   \n",
    "3 7 10   \n",
    "4 8 11 13   \n",
    "5 9 12 14 15  \n",
    "\n",
    "Input: 7\n",
    "\n",
    "Output:\n",
    "\n",
    "1   \n",
    "2 8   \n",
    "3 9 14  \n",
    "4 10 15 19  \n",
    "5 11 16 20 23  \n",
    "6 12 17 21 24 26  \n",
    "7 13 18 22 25 27 28  "
   ]
  }
 ],
 "metadata": {
  "kernelspec": {
   "display_name": "Python 3",
   "language": "python",
   "name": "python3"
  },
  "language_info": {
   "codemirror_mode": {
    "name": "ipython",
    "version": 3
   },
   "file_extension": ".py",
   "mimetype": "text/x-python",
   "name": "python",
   "nbconvert_exporter": "python",
   "pygments_lexer": "ipython3",
   "version": "3.5.2"
  }
 },
 "nbformat": 4,
 "nbformat_minor": 2
}
