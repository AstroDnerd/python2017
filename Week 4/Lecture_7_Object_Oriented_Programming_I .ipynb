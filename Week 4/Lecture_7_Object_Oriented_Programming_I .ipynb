{
 "cells": [
  {
   "cell_type": "markdown",
   "metadata": {},
   "source": [
    "# Object Oriented Programming - Part I"
   ]
  },
  {
   "cell_type": "markdown",
   "metadata": {},
   "source": [
    "Object-oriented programming (OOP) refers to a software design practice in which the programmer defines both data type of a data structure as well as methods that applied to it.  \n",
    "\n",
    "Consider a character in a video game(say Skyrim). That character you control as well as other non-playable ones in the game are internally represented by objects. When you strike a wild wolf in the game with your sword you are actually interacting with that character and affecting one of it's attributes, namely it's health.\n",
    "\n",
    "So, you can say that an object is an entity which has a current state described by some attributes and can perform some methods.\n",
    "\n",
    "Attributes : An attribute of an object is something that partly or wholly describes it's state.\n",
    "\n",
    "Methods : Methods of an object are the actions which the object can perform.\n",
    "\n",
    "Let us consider a living organism such as the simplest cell.\n",
    "\n",
    "Attributes :\n",
    "   1. Living (Boolean) : Can only be alive or dead.\n",
    "   2. In Motion (Boolean) : Can either be moving or not.\n",
    "   3. Speed (Float) : Can move at a specific speed at a given instant of time.  \n",
    "   .......  \n",
    "   \n",
    "Methods :\n",
    "   1. Ingest (void) : Ingest food that it finds.\n",
    "   2. Move (void) : Moves at a certain velocity.  \n",
    "   ......."
   ]
  },
  {
   "cell_type": "markdown",
   "metadata": {},
   "source": [
    "Objects have a pre-defined set of attributes and methods that they are characterised by. In other words, every object needs to follow a blueprint. This blueprint or set of guidelines that properly define the aforementioned characteristics is called a class."
   ]
  },
  {
   "cell_type": "markdown",
   "metadata": {},
   "source": [
    "So, we could all be objects of `BITSian` type, or an object of the more broader `human` type. You can also clearly make out that `BITSian` type comes under `human` type but we will discuss that later(something called inheritance)."
   ]
  },
  {
   "cell_type": "markdown",
   "metadata": {},
   "source": [
    "## Class"
   ]
  },
  {
   "cell_type": "markdown",
   "metadata": {},
   "source": [
    "As defined earlier, a class is a blueprint for an object, something that prescribes the attributes and methods of an object of that certain class type. Let us see an example."
   ]
  },
  {
   "cell_type": "code",
   "execution_count": null,
   "metadata": {
    "collapsed": true
   },
   "outputs": [],
   "source": [
    "LIMIT = 800000\n",
    "\n",
    "class BITSian(object):    \n",
    "    def __init__(self, name, id_no, parent_income):\n",
    "        self.name = name\n",
    "        self.id_no = id_no\n",
    "        self.parent_income = parent_income\n",
    "    \n",
    "    def get_mcn(self, limit, falsify_tax_document=False):\n",
    "        if falsify_tax_document:\n",
    "            return True\n",
    "        else:\n",
    "            if self.parent_income <= limit:\n",
    "                return True\n",
    "            return False\n",
    "\n",
    "\n",
    "a = BITSian(\"Arif Ahmed\", \"2015B4A70370G\", 1045000)\n",
    "print(a.get_mcn(LIMIT))\n",
    "\n",
    "b = BITSian(\"Anonymous\", \"2015B*A*0***G\", 2740000)\n",
    "print(b.get_mcn(LIMIT, True))"
   ]
  },
  {
   "cell_type": "markdown",
   "metadata": {},
   "source": [
    "So, let us analyze the various elements of the code : \n",
    "\n",
    "----------------------\n",
    "```\n",
    "class BITSian(object):\n",
    "```\n",
    "\n",
    "The above statement is a class definition, very much like function definition. This is the syntax :\n",
    "\n",
    "```\n",
    "class <classname>(<class type to inherit from>)\n",
    "```\n",
    "The default class type to inherit from is ```object``` type. Inheritance is something we will see in the next lecture.\n",
    "\n",
    "Every object we define whether user-defined or not is of type `object`."
   ]
  },
  {
   "cell_type": "code",
   "execution_count": null,
   "metadata": {
    "collapsed": true
   },
   "outputs": [],
   "source": [
    "class Lite(object):\n",
    "    def __init__(self):\n",
    "        pass\n",
    "\n",
    "a = 5\n",
    "b = \"This is a String\"\n",
    "c = Lite()\n",
    "\n",
    "print(isinstance(a, object))\n",
    "print(isinstance(b, object))\n",
    "print(isinstance(c, object))"
   ]
  },
  {
   "cell_type": "markdown",
   "metadata": {},
   "source": [
    "-----------------------------------------------------------------------------------------------\n",
    "```\n",
    "def __init__(self, name, id_no, parent_income):\n",
    "        self.name = name\n",
    "        self.id_no = id_no\n",
    "        self.parent_income = parent_income\n",
    "```\n",
    "#### Constructor\n",
    "Written above is the constructor of the class. The constructor is a special function that enables the creation of an object given it's class type. It is mainly used to initialize the object with default initial values.\n",
    "\n",
    "When we use something like `self.<attribute>` we are saying that `<attribute>` belongs to `self`.\n",
    "So, when creating an object say --> `a = BITSian(\"Mr.XYZ\", \"2015XXXX0XXXG\", 10**6)`, what happens internally is that the constructor is called and the name attribute of BITSian object `a` is set to string value `Mr.XYZ`. Similar for `id_no` and `parent_income`.\n"
   ]
  },
  {
   "cell_type": "markdown",
   "metadata": {},
   "source": [
    "### Class Attributes and Static Methods\n",
    "Attributes defined at class level(that is common for all objects of that class type). That is a common value for all objects of that class type unless explicitly changed. When that explicit change is done, obviously the class attribute for that object will change NOT the general class attribute(this is pretty logical).\n",
    "\n",
    "The explicit change can also be done for the class attribute itself, but this is bad software engineering practice. If you indeed need this to be done, you should change the initial value in the class body instead.\n",
    "\n",
    "Go through below example for clarification."
   ]
  },
  {
   "cell_type": "code",
   "execution_count": 2,
   "metadata": {},
   "outputs": [
    {
     "name": "stdout",
     "output_type": "stream",
     "text": [
      "Class level count :  0\n",
      "a count :  0\n",
      "b count :  0\n",
      "b count :  1\n",
      "Class level count :  0\n",
      "Class level count :  0\n",
      "b count :  1\n"
     ]
    }
   ],
   "source": [
    "LIMIT = 800000\n",
    "\n",
    "class BITSian(object): \n",
    "    \n",
    "    # Class Attributes\n",
    "    count = 0\n",
    "    \n",
    "    def __init__(self, name, id_no, parent_income):\n",
    "        self.name = name\n",
    "        self.id_no = id_no\n",
    "        self.parent_income = parent_income\n",
    "    \n",
    "    def get_mcn(self, limit, falsify_tax_document=False):\n",
    "        if falsify_tax_document:\n",
    "            return True\n",
    "        else:\n",
    "            if self.parent_income <= limit:\n",
    "                return True\n",
    "            return False\n",
    "\n",
    "    def change(self):\n",
    "        # This is obviously not a realistic function :P\n",
    "        self.count += 1\n",
    "\n",
    "a = BITSian(\"ABC\", \"2012A4PS213G\", 10**10)\n",
    "b = BITSian(\"XYZ\", \"2012A1PS013G\", 10**20)\n",
    "\n",
    "print(\"Class level count : \", BITSian.count)\n",
    "print(\"a count : \",a.count)\n",
    "print(\"b count : \",b.count)\n",
    "b.change()\n",
    "print(\"b count : \",b.count)\n",
    "print(\"Class level count : \",BITSian.count)\n",
    "BITSian.count = 0\n",
    "print(\"Class level count : \",BITSian.count)\n",
    "print(\"b count : \",b.count)\n"
   ]
  },
  {
   "cell_type": "markdown",
   "metadata": {},
   "source": [
    "The method equivalent of class attributes would be static methods. That is, methods which are defined at class level and do not accept `self` in it's function definition. These are mainly used when there a common similar functionality has to be implemented for all objects of the class type."
   ]
  },
  {
   "cell_type": "code",
   "execution_count": null,
   "metadata": {
    "collapsed": true
   },
   "outputs": [],
   "source": [
    "class BITSian(object): \n",
    "    \n",
    "    # Class Attributes\n",
    "    human = True\n",
    "    \n",
    "    def __init__(self, name, id_no, parent_income):\n",
    "        self.name = name\n",
    "        self.id_no = id_no\n",
    "        self.parent_income = parent_income\n",
    "    \n",
    "    def get_mcn(self, limit, falsify_tax_document=False):\n",
    "        if falsify_tax_document:\n",
    "            return True\n",
    "        else:\n",
    "            if self.parent_income <= limit:\n",
    "                return True\n",
    "            return False\n",
    "\n",
    "    def change(self):\n",
    "        # This is obviously not a realistic function :P\n",
    "        self.human = False\n",
    "        \n",
    "    @staticmethod\n",
    "    def is_IITian():\n",
    "        return False\n",
    "    \n"
   ]
  },
  {
   "cell_type": "code",
   "execution_count": null,
   "metadata": {
    "collapsed": true
   },
   "outputs": [],
   "source": [
    "a = BITSian(\"ABC\", \"2012A4PS213G\", 10**10)\n",
    "b = BITSian(\"XYZ\", \"2012A1PS013G\", 10**20)\n",
    "\n",
    "print(a.is_IITian())\n",
    "print(b.is_IITian())\n",
    "print(BITSian.is_IITian())"
   ]
  },
  {
   "cell_type": "markdown",
   "metadata": {},
   "source": [
    "In the follwing lectures we will study about Inheritance, Polymorphism and Abstract Classes."
   ]
  }
 ],
 "metadata": {
  "kernelspec": {
   "display_name": "Python 3",
   "language": "python",
   "name": "python3"
  },
  "language_info": {
   "codemirror_mode": {
    "name": "ipython",
    "version": 3
   },
   "file_extension": ".py",
   "mimetype": "text/x-python",
   "name": "python",
   "nbconvert_exporter": "python",
   "pygments_lexer": "ipython3",
   "version": "3.5.2"
  }
 },
 "nbformat": 4,
 "nbformat_minor": 2
}
