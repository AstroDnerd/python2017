{
 "cells": [
  {
   "cell_type": "markdown",
   "metadata": {},
   "source": [
    "# Object Oriented Programming - Part II"
   ]
  },
  {
   "cell_type": "markdown",
   "metadata": {},
   "source": [
    "## Constructor Overloading"
   ]
  },
  {
   "cell_type": "code",
   "execution_count": null,
   "metadata": {},
   "outputs": [],
   "source": [
    "class Student():\n",
    "    def __init__(self, name, id_no=None):\n",
    "        self.name = name\n",
    "        self.id_no = id_no if id_no is not None else \"Not Allocated\"\n",
    "    \n",
    "    def __str__(self):\n",
    "        return \"Name : \" + self.name + \" , ID : \" + self.id_no\n",
    "    \n",
    "A = Student(\"Sebastin\", \"2015B4A70370G\")\n",
    "B = Student(\"Mayank\")\n",
    "print(A)\n",
    "print(B)"
   ]
  },
  {
   "cell_type": "markdown",
   "metadata": {},
   "source": [
    "## Inheritance"
   ]
  },
  {
   "cell_type": "markdown",
   "metadata": {},
   "source": [
    "Inheritance is an OOP practice where a certain class(called subclass/child class) inherits the properties namely data and behaviour of another class(called superclass/parent class). Let us see through an example."
   ]
  },
  {
   "cell_type": "code",
   "execution_count": null,
   "metadata": {
    "collapsed": true
   },
   "outputs": [],
   "source": [
    "# BITSian class\n",
    "class BITSian():\n",
    "    def __init__(self, name, id_no, hostel):\n",
    "        self.name = name\n",
    "        self.id_no = id_no\n",
    "        self.hostel = hostel\n",
    "    \n",
    "    def get_name(self):\n",
    "        return self.name\n",
    "    \n",
    "    def get_id(self):\n",
    "        return self.id_no\n",
    "    \n",
    "    def get_hostel(self):\n",
    "        return self.hostel\n",
    "\n",
    "\n",
    "# IITian class\n",
    "class IITian():\n",
    "    def __init__(self, name, id_no, hall):\n",
    "        self.name = name\n",
    "        self.id_no = id_no\n",
    "        self.hall = hall\n",
    "    \n",
    "    def get_name(self):\n",
    "        return self.name\n",
    "    \n",
    "    def get_id(self):\n",
    "        return self.id_no\n",
    "    \n",
    "    def get_hall(self):\n",
    "        return self.hall"
   ]
  },
  {
   "cell_type": "markdown",
   "metadata": {},
   "source": [
    "While writing code you must always make sure that you keep it as concise as possible and avoid any sort of repitition. Now, we can clearly see the commonalitites between `BITSian` and `IITian` classes.\n",
    "\n",
    "It would be natural to assume that every college student whether from BITS or IIT or pretty much any other institution in the world will have a name and a unique ID number.\n",
    "\n",
    "Such a degree of commonality means that there could be a higher level of abstraction to describe both BITSian and IITian to a decent extent."
   ]
  },
  {
   "cell_type": "code",
   "execution_count": null,
   "metadata": {
    "collapsed": true
   },
   "outputs": [],
   "source": [
    "class CollegeStudent():\n",
    "    def __init__(self, name, id_no):\n",
    "        self.name = name\n",
    "        self.id_no = id_no\n",
    "    \n",
    "    def get_name(self):\n",
    "        return self.name\n",
    "    \n",
    "    def get_id(self):\n",
    "        return self.id_no\n",
    "    \n",
    "# BITSian class\n",
    "class BITSian(CollegeStudent):\n",
    "    def __init__(self, name, id_no, hostel):\n",
    "        self.name = name\n",
    "        self.id_no = id_no\n",
    "        self.hostel = hostel\n",
    "    \n",
    "    def get_hostel(self):\n",
    "        return self.hostel\n",
    "\n",
    "\n",
    "# IITian class\n",
    "class IITian(CollegeStudent):\n",
    "    def __init__(self, name, id_no, hall):\n",
    "        self.name = name\n",
    "        self.id_no = id_no\n",
    "        self.hall = hall\n",
    "    \n",
    "    def get_hall(self):\n",
    "        return self.hall"
   ]
  },
  {
   "cell_type": "code",
   "execution_count": null,
   "metadata": {},
   "outputs": [],
   "source": [
    "a = BITSian(\"Arif\", \"2015B4A70370G\", \"AH-5\")\n",
    "b = IITian(\"Abhishek\", \"2213civil32K\", \"Hall-10\")\n",
    "print(a.get_name())\n",
    "print(b.get_name())\n",
    "print(a.get_hostel())\n",
    "print(b.get_hall())"
   ]
  },
  {
   "cell_type": "markdown",
   "metadata": {},
   "source": [
    "So, the class definition is as such : `class SubClassName(SuperClassName):`"
   ]
  },
  {
   "cell_type": "markdown",
   "metadata": {},
   "source": [
    "### Using super()\n",
    "\n",
    "The main usage of `super()` in Python is to refer to parent classes without naming them expicitly. This becomes really useful in multiple inheritance where you won't have to worry about parent class name."
   ]
  },
  {
   "cell_type": "code",
   "execution_count": null,
   "metadata": {
    "scrolled": true
   },
   "outputs": [],
   "source": [
    "class Student():\n",
    "    def __init__(self, name):\n",
    "        self.name = name\n",
    "        \n",
    "    def get_name(self):\n",
    "        return self.name\n",
    "\n",
    "class CollegeStudent(Student):\n",
    "    def __init__(self, name, id_no):\n",
    "        super().__init__(name)\n",
    "        self.id_no = id_no\n",
    "    \n",
    "    def get_id(self):\n",
    "        return self.id_no\n",
    "    \n",
    "# BITSian class\n",
    "class BITSian(CollegeStudent):\n",
    "    def __init__(self, name, id_no, hostel):\n",
    "        super().__init__(name, id_no)\n",
    "        self.hostel = hostel\n",
    "    \n",
    "    def get_hostel(self):\n",
    "        return self.hostel\n",
    "\n",
    "\n",
    "# IITian class\n",
    "class IITian(CollegeStudent):\n",
    "    def __init__(self, name, id_no, hall):\n",
    "        super().__init__(name, id_no)\n",
    "        self.hall = hall\n",
    "    \n",
    "    def get_hall(self):\n",
    "        return self.hall\n",
    "    \n",
    "a = BITSian(\"Arif\", \"2015B4A70370G\", \"AH-5\")\n",
    "b = IITian(\"Abhishek\", \"2213civil32K\", \"Hall-10\")\n",
    "print(a.get_name())\n",
    "print(b.get_name())\n",
    "print(a.get_hostel())\n",
    "print(b.get_hall())"
   ]
  },
  {
   "cell_type": "markdown",
   "metadata": {},
   "source": [
    "You may come across the following constructor call for a superclass on the net : `super(self.__class__, self).__init__()`. Please do not do this. It can lead to infinite recursion.\n",
    "\n",
    "Go through this link for more clarification : [Understanding Python Super with init methods](https://stackoverflow.com/questions/576169/understanding-python-super-with-init-methods)"
   ]
  },
  {
   "cell_type": "markdown",
   "metadata": {},
   "source": [
    "### Method Overidding\n",
    "\n",
    "This is a phenomenon where a subclass method with the same name is executed in preference to it's superclass method with a similar name."
   ]
  },
  {
   "cell_type": "code",
   "execution_count": 13,
   "metadata": {},
   "outputs": [
    {
     "name": "stdout",
     "output_type": "stream",
     "text": [
      "Gen BITSian --> Arif\n",
      "IITian --> Abhishek\n",
      "\n",
      "College Student : Arif\n",
      "Student : Arif\n"
     ]
    }
   ],
   "source": [
    "class Student():\n",
    "    def __init__(self, name):\n",
    "        self.name = name\n",
    "        \n",
    "    def get_name(self):\n",
    "        return \"Student : \" + self.name\n",
    "\n",
    "class CollegeStudent(Student):\n",
    "    def __init__(self, name, id_no):\n",
    "        super().__init__(name)\n",
    "        self.id_no = id_no\n",
    "    \n",
    "    def get_id(self):\n",
    "        return self.id_no\n",
    "    \n",
    "    def get_name(self):\n",
    "        return \"College Student : \" + self.name\n",
    "\n",
    "class BITSian(CollegeStudent):\n",
    "    def __init__(self, name, id_no, hostel):\n",
    "        super().__init__(name, id_no)\n",
    "        self.hostel = hostel\n",
    "    \n",
    "    def get_hostel(self):\n",
    "        return self.hostel\n",
    "    \n",
    "    def get_name(self):\n",
    "        return \"Gen BITSian --> \" + self.name\n",
    "\n",
    "class IITian(CollegeStudent):\n",
    "    def __init__(self, name, id_no, hall):\n",
    "        super().__init__(name, id_no)\n",
    "        self.hall = hall\n",
    "    \n",
    "    def get_hall(self):\n",
    "        return self.hall\n",
    "    \n",
    "    def get_name(self):\n",
    "        return \"IITian --> \" + self.name\n",
    "\n",
    "a = BITSian(\"Arif\", \"2015B4A70370G\", \"AH-5\")\n",
    "b = IITian(\"Abhishek\", \"2213civil32K\", \"Hall-10\")\n",
    "\n",
    "print(a.get_name())\n",
    "print(b.get_name())\n",
    "print()\n",
    "print(super(BITSian, a).get_name())\n",
    "print(super(CollegeStudent, a).get_name())"
   ]
  },
  {
   "cell_type": "markdown",
   "metadata": {},
   "source": [
    "In the last lecture for OOP, we will learn about Abstract Classes and Polymorphism"
   ]
  }
 ],
 "metadata": {
  "kernelspec": {
   "display_name": "Python 3",
   "language": "python",
   "name": "python3"
  },
  "language_info": {
   "codemirror_mode": {
    "name": "ipython",
    "version": 3
   },
   "file_extension": ".py",
   "mimetype": "text/x-python",
   "name": "python",
   "nbconvert_exporter": "python",
   "pygments_lexer": "ipython3",
   "version": "3.5.2"
  }
 },
 "nbformat": 4,
 "nbformat_minor": 2
}
