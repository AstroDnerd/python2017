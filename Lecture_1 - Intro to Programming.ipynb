{
 "cells": [
  {
   "cell_type": "markdown",
   "metadata": {},
   "source": [
    "# Lecture 1: Introduction to Programming"
   ]
  },
  {
   "cell_type": "markdown",
   "metadata": {},
   "source": [
    "## Agenda for the Class:\n",
    "1. Python in-built datatypes\n",
    "2. Basic mathematical operators and Precedence order\n",
    "3. Python Interpreter vs Python for Scripting"
   ]
  },
  {
   "cell_type": "markdown",
   "metadata": {},
   "source": [
    "Firstly we'll focus on the **datatypes**.\n",
    "1. **Numeric**\n",
    "2. **Strings**\n",
    "3. **Lists**"
   ]
  },
  {
   "cell_type": "markdown",
   "metadata": {},
   "source": [
    "General format for **Assigning** a variable a value:\n",
    "Variable_name = Variable_Value\n",
    "\n",
    "1. We **Do not** mention datatype while assigning a variable a value in Python. (i.e. Dynamically Typed)\n",
    "2. **=** is used to assign a variable a value. ( L Value and R value)\n",
    "3. A variable name must follow certain naming conventions. Example: '23', 'len' can be variable names.\n",
    "4. There is no such thing as \"variable declaration\" or \"variable initialization\" in Python. It's only variable assignment"
   ]
  },
  {
   "cell_type": "markdown",
   "metadata": {},
   "source": [
    "## Numeric data"
   ]
  },
  {
   "cell_type": "code",
   "execution_count": 5,
   "metadata": {
    "collapsed": true
   },
   "outputs": [],
   "source": [
    "a=1\n",
    "b=3.14\n",
    "# Assigning value 1 to variable a and 3.14 to variable b"
   ]
  },
  {
   "cell_type": "markdown",
   "metadata": {},
   "source": [
    "Mathematical Operations on Variables:\n",
    "1. Add ('+')\n",
    "2. Multiple ('*')\n",
    "3. Subtract ('-')\n",
    "4. Divide ('/')\n",
    "5. Modulo ('%')\n",
    "6. Exponentiation (\\*\\*)\n",
    "\n",
    "### **Order of Precedence**\n",
    "\n",
    "Exponent > (Multiple, Divide, Modulo) > (Add, Subtract)"
   ]
  },
  {
   "cell_type": "code",
   "execution_count": 11,
   "metadata": {
    "collapsed": true
   },
   "outputs": [],
   "source": [
    "a = 20\n",
    "b = 10\n",
    "c = 15\n",
    "d = 5\n",
    "e = 0"
   ]
  },
  {
   "cell_type": "code",
   "execution_count": 12,
   "metadata": {
    "collapsed": true
   },
   "outputs": [
    {
     "name": "stdout",
     "output_type": "stream",
     "text": [
      "Value of (a + b) * c / d is  90.0\n"
     ]
    }
   ],
   "source": [
    "e = (a + b) * c / d       #( 30 * 15 ) / 5\n",
    "print (\"Value of (a + b) * c / d is \",  e)"
   ]
  },
  {
   "cell_type": "code",
   "execution_count": 13,
   "metadata": {
    "collapsed": true
   },
   "outputs": [
    {
     "name": "stdout",
     "output_type": "stream",
     "text": [
      "Value of ((a + b) * c) / d is  90.0\n"
     ]
    }
   ],
   "source": [
    "e = ((a + b) * c) / d     # (30 * 15 ) / 5\n",
    "print (\"Value of ((a + b) * c) / d is \",  e)"
   ]
  },
  {
   "cell_type": "code",
   "execution_count": 14,
   "metadata": {
    "collapsed": true
   },
   "outputs": [
    {
     "name": "stdout",
     "output_type": "stream",
     "text": [
      "Value of (a + b) * (c / d) is  90.0\n"
     ]
    }
   ],
   "source": [
    "e = (a + b) * (c / d);    # (30) * (15/5)\n",
    "print (\"Value of (a + b) * (c / d) is \",  e)"
   ]
  },
  {
   "cell_type": "code",
   "execution_count": 15,
   "metadata": {
    "collapsed": true
   },
   "outputs": [
    {
     "name": "stdout",
     "output_type": "stream",
     "text": [
      "Value of a + (b * c) / d is  50.0\n"
     ]
    }
   ],
   "source": [
    "e = a + (b * c) / d;      #  20 + (150/5)\n",
    "print (\"Value of a + (b * c) / d is \",  e)"
   ]
  },
  {
   "cell_type": "markdown",
   "metadata": {},
   "source": [
    "## Strings\n",
    "1. **Immutable** datatype\n",
    "2. String enclosed within **\" String\"** or **'String'**"
   ]
  },
  {
   "cell_type": "code",
   "execution_count": 29,
   "metadata": {
    "collapsed": true
   },
   "outputs": [
    {
     "name": "stdout",
     "output_type": "stream",
     "text": [
      "Introduction to Programming\n",
      "Having a good time ? ;)\n"
     ]
    }
   ],
   "source": [
    "course_name = \"Introduction to Programming\"\n",
    "question = \"Having a good time ? ;)\"\n",
    "print(course_name)\n",
    "print(question)"
   ]
  },
  {
   "cell_type": "markdown",
   "metadata": {},
   "source": [
    "### Operations on Strings\n",
    "1. Since strings are immutable, we can't change the value stored in a string\n",
    "2. We can concatenate ('join') multiple strings.\n",
    "3. Slice/substring operations"
   ]
  },
  {
   "cell_type": "code",
   "execution_count": 3,
   "metadata": {},
   "outputs": [
    {
     "name": "stdout",
     "output_type": "stream",
     "text": [
      "Hello World! has 12 characters\n"
     ]
    }
   ],
   "source": [
    "string_1 = \"Hello World!\"\n",
    "n = len(string_1)  # \"len\" gives us the number of characters in the string\n",
    "print(string_1 + \" has\", n , \"characters\")"
   ]
  },
  {
   "cell_type": "markdown",
   "metadata": {},
   "source": [
    "1. **Indexing** : Every charcater of the string can be accessed by it's position in the string.\n",
    "2. Indexing starts from zero.\n",
    "3. Syntax\n",
    "    string_name[index_number]\n",
    "    \n",
    "Example:    "
   ]
  },
  {
   "cell_type": "code",
   "execution_count": 9,
   "metadata": {
    "collapsed": true
   },
   "outputs": [
    {
     "name": "stdout",
     "output_type": "stream",
     "text": [
      "H\n",
      "e\n"
     ]
    }
   ],
   "source": [
    "print(string_1[0])\n",
    "print(string_1[1])"
   ]
  },
  {
   "cell_type": "code",
   "execution_count": 1,
   "metadata": {
    "collapsed": true
   },
   "outputs": [
    {
     "ename": "NameError",
     "evalue": "name 'string_1' is not defined",
     "output_type": "error",
     "traceback": [
      "\u001b[0;31m---------------------------------------------------------------------------\u001b[0m",
      "\u001b[0;31mNameError\u001b[0m                                 Traceback (most recent call last)",
      "\u001b[0;32m<ipython-input-1-30dd76791321>\u001b[0m in \u001b[0;36m<module>\u001b[0;34m()\u001b[0m\n\u001b[0;32m----> 1\u001b[0;31m \u001b[0mprint\u001b[0m\u001b[0;34m(\u001b[0m\u001b[0mstring_1\u001b[0m\u001b[0;34m[\u001b[0m\u001b[0mn\u001b[0m\u001b[0;34m]\u001b[0m\u001b[0;34m)\u001b[0m\u001b[0;34m\u001b[0m\u001b[0m\n\u001b[0m",
      "\u001b[0;31mNameError\u001b[0m: name 'string_1' is not defined"
     ]
    }
   ],
   "source": [
    "c"
   ]
  },
  {
   "cell_type": "code",
   "execution_count": 4,
   "metadata": {
    "collapsed": true
   },
   "outputs": [
    {
     "name": "stdout",
     "output_type": "stream",
     "text": [
      "d\n"
     ]
    }
   ],
   "source": [
    "print(string_1[-2])"
   ]
  },
  {
   "cell_type": "markdown",
   "metadata": {},
   "source": [
    "Negative Indexing:\n",
    "string[-1] gives us the last character\n",
    "string[-2] gives us the second last character\n",
    "and so on...\n"
   ]
  },
  {
   "cell_type": "markdown",
   "metadata": {},
   "source": [
    "#### Slicing operations\n",
    "Syntax:\n",
    "\n",
    "string_name[start_index,end_index]"
   ]
  },
  {
   "cell_type": "code",
   "execution_count": 5,
   "metadata": {},
   "outputs": [
    {
     "name": "stdout",
     "output_type": "stream",
     "text": [
      "He\n",
      " World!\n"
     ]
    }
   ],
   "source": [
    "print(string_1[0:2])\n",
    "print(string_1[5 : len(string_1)])"
   ]
  },
  {
   "cell_type": "code",
   "execution_count": 21,
   "metadata": {
    "collapsed": true
   },
   "outputs": [
    {
     "name": "stdout",
     "output_type": "stream",
     "text": [
      "Hello World!\n"
     ]
    }
   ],
   "source": [
    "print(string_1[0:4]+string_1[4:len(string_1)])"
   ]
  },
  {
   "cell_type": "markdown",
   "metadata": {},
   "source": [
    "## Lists\n",
    "1. Initializing syntax: \\n\n",
    "    list_name = [value_1,value_2,...,value_n]\n",
    "2. Behaviour Similar to strings\n",
    "3. Mutable\n",
    "4. Can contain multiple data types."
   ]
  },
  {
   "cell_type": "code",
   "execution_count": 6,
   "metadata": {},
   "outputs": [
    {
     "name": "stdout",
     "output_type": "stream",
     "text": [
      "[2, 3, 5, 8, 11]\n",
      "2\n",
      "5\n"
     ]
    }
   ],
   "source": [
    "primes = [2,3,5,8,11]\n",
    "print(primes)\n",
    "print(primes[0])\n",
    "print(len(primes))\n"
   ]
  },
  {
   "cell_type": "code",
   "execution_count": 7,
   "metadata": {},
   "outputs": [
    {
     "name": "stdout",
     "output_type": "stream",
     "text": [
      "['L', 'T', 1]\n",
      "5\n"
     ]
    }
   ],
   "source": [
    "classroom = ['L','T', 1]\n",
    "print(classroom)\n",
    "print((classroom[2]+ 4))"
   ]
  },
  {
   "cell_type": "markdown",
   "metadata": {},
   "source": [
    "### What to do next?\n",
    "1.Play around in the "
   ]
  }
 ],
 "metadata": {
  "kernelspec": {
   "display_name": "Python 3",
   "language": "python",
   "name": "python3"
  },
  "language_info": {
   "codemirror_mode": {
    "name": "ipython",
    "version": 3
   },
   "file_extension": ".py",
   "mimetype": "text/x-python",
   "name": "python",
   "nbconvert_exporter": "python",
   "pygments_lexer": "ipython3",
   "version": "3.5.2"
  }
 },
 "nbformat": 4,
 "nbformat_minor": 2
}
