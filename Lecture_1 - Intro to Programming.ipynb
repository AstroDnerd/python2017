{
 "cells": [
  {
   "cell_type": "markdown",
   "metadata": {},
   "source": [
    "#Class 001 - Introduction to Programming"
   ]
  },
  {
   "cell_type": "markdown",
   "metadata": {},
   "source": [
    "##Agenda for the class:\n",
    "1.Interactive Python vs Python for Scripting\n",
    "2.Statements/Expressions\n",
    "3.Variables\n",
    "4.Various Data Types\n"
   ]
  },
  {
   "cell_type": "markdown",
   "metadata": {},
   "source": [
    "Python is an Interprested Language, and the interpreter can be used interactively to trt small code snippets.\n",
    "Let's try it out!"
   ]
  },
  {
   "cell_type": "markdown",
   "metadata": {},
   "source": [
    "Open Terminal(ctr+alt+t)\n",
    "Python3\n",
    "Basic types of variables declared.\n",
    "Show comments #Functionality as a basic calculator by using import math.\n",
    "import math\n",
    "Show a few examples of some functions like math.sin, math.factorial;\n",
    "help(math)\n",
    "shift+q to quite math help section.\n",
    "help('modules') to get a list of all available modules from shell.\n",
    "8 / 5  # division always returns a floating point number\n",
    ">>>1.6\n",
    "\n",
    "8%5\n",
    ">>>1\n",
    "\n",
    "8**2 Calculating powers\n",
    ">>>64\n",
    "\n",
    "All information in the world can be of two types: Numbers and Strings, so those are the two fundamental data types.\n",
    "\n",
    "a='hello world!'\n",
    "print(\"First line \\n Second Line\")\n",
    "\n",
    "Strings can be concanated with + \n",
    "\n",
    "#Question: Do i include trick functionalities like // or multiplication of strings?\n",
    "\n",
    "Initializing a variable\n",
    "\n",
    "Indexing of strings:\n",
    "S=\"Hello World!\"\n",
    "S[0]=H etc...\n",
    "n=len(S)\n",
    "### Note: Negative indexes are accepted in Python . But if we cross n then we have an issue.\n",
    "\n",
    "Hence output for S[-1]=!\n",
    "Output for S[-5]=??\n",
    "Output for S[-53]=??\n",
    "\n",
    "\n",
    "\n",
    "Slicing Strings:\n",
    "S[0:2]=He #Note that the character at the final index is not included.\n",
    "S[x:y]= (character at x ... character at y-1)\n",
    "\n",
    "So output for S[0:a]+S[a:] for any a =??\n",
    "\n",
    "Python strings are immutable: No changes can be made once it has been initialised.\n",
    "\n",
    "\n",
    "List: One of the most versatile data types;\n",
    "Declaration format\n",
    "list_variable_name = [value0,value1,value2,...value(n-1)] , where n=number of elements in the list.\n",
    "squares = [0,1,4,9,25]\n",
    "squares+[36,49,64]\n",
    "#squares.append(<value to append>) Avoid methods as of now.\n",
    "len(list)\n",
    "\n"
   ]
  }
 ],
 "metadata": {
  "kernelspec": {
   "display_name": "Python 3",
   "language": "python",
   "name": "python3"
  },
  "language_info": {
   "codemirror_mode": {
    "name": "ipython",
    "version": 3
   },
   "file_extension": ".py",
   "mimetype": "text/x-python",
   "name": "python",
   "nbconvert_exporter": "python",
   "pygments_lexer": "ipython3",
   "version": "3.5.2"
  }
 },
 "nbformat": 4,
 "nbformat_minor": 2
}
