{
 "cells": [
  {
   "cell_type": "markdown",
   "metadata": {},
   "source": [
    "### You are NOT allowed to access internet for both questions.\n",
    "### The code for both questions is simpler than the ones in the previous quiz. DO NOT overthink !\n",
    "### Restrictions : As usual only solutions using list comprehension will be appreciated."
   ]
  },
  {
   "cell_type": "markdown",
   "metadata": {},
   "source": [
    "### Q1\n",
    "\n",
    "Consider a unit square with vertices (0, 0), (0, 1), (1, 1), (1, 0).\n",
    "If two points are picked randomly within the square calculate the average distance between them.\n",
    "Hints : You may need to use.........\n",
    "\n",
    "#### Generating random points\n",
    "\n",
    "import random\n",
    "random.uniform(start, stop)\n",
    "###### Returns a float number between start and stop.\n",
    "\n",
    "random.uniform(0, 1) --> 0.2967783156262709\n",
    "random.uniform(0, 1) --> 0.5677612555662909\n",
    "\n",
    "\n",
    "#### Summing up all numbers in a list\n",
    "lst = [0, 1, 2, 3, 4]\n",
    "sum(lst) --> 10\n",
    "\n",
    "#### Square root\n",
    "from math import sqrt\n",
    "\n",
    "sqrt(5) --> 2.23606797749979\n",
    "sqrt(4) --> 4.0"
   ]
  },
  {
   "cell_type": "markdown",
   "metadata": {},
   "source": [
    "### Q2\n",
    "\n",
    "Monte Carlo method is a very powerful technique to generate interesting results. Now don't get your brain baked on this. This is an extremely simple example of Monte Carlo method and you needn't be familiar with the term at all.\n",
    "Write a program to approximate the value of pi. How to do this using method mentioned above ? Consider a unit square with a unit radius circle in it. If points are randomly chosen in the combined figure some will lie in the circle and others will lie outside it. Now think about how the value of pi can be computed from this information.\n",
    "\n",
    "Hints : You may need to use.........\n",
    "\n",
    "import random\n",
    "random.uniform(start, stop)\n",
    "#### Returns a float number between start and stop.\n",
    "\n",
    "random.uniform(0, 1) --> 0.2967783156262709\n",
    "random.uniform(0, 1) --> 0.5677612555662909\n",
    "\n",
    "If anymore hints are given, it will be like telling you the answer...."
   ]
  }
 ],
 "metadata": {
  "kernelspec": {
   "display_name": "Python 3",
   "language": "python",
   "name": "python3"
  },
  "language_info": {
   "codemirror_mode": {
    "name": "ipython",
    "version": 3
   },
   "file_extension": ".py",
   "mimetype": "text/x-python",
   "name": "python",
   "nbconvert_exporter": "python",
   "pygments_lexer": "ipython3",
   "version": "3.5.2"
  }
 },
 "nbformat": 4,
 "nbformat_minor": 2
}
