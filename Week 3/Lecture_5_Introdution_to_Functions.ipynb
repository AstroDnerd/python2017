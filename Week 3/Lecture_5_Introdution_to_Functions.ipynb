{
 "cells": [
  {
   "cell_type": "markdown",
   "metadata": {},
   "source": [
    "# Introduction to Programming : Lecture 5"
   ]
  },
  {
   "cell_type": "markdown",
   "metadata": {},
   "source": [
    "### Agenda for the class\n",
    "1. Introduction to functions\n",
    "2. Practice Questions"
   ]
  },
  {
   "cell_type": "markdown",
   "metadata": {
    "collapsed": true
   },
   "source": [
    "## Functions in Python"
   ]
  },
  {
   "cell_type": "markdown",
   "metadata": {},
   "source": [
    "#Syntax\n",
    "def function_name(input_1,input_2,...):\n",
    "    '''\n",
    "    Process input to get output\n",
    "    '''\n",
    "    return [output1,output2,..]"
   ]
  },
  {
   "cell_type": "code",
   "execution_count": 2,
   "metadata": {},
   "outputs": [
    {
     "name": "stdout",
     "output_type": "stream",
     "text": [
      "y = 5\n",
      "y = 3\n"
     ]
    }
   ],
   "source": [
    "#Example_1: return keyword\n",
    "def straight_line(slope,intercept,x):\n",
    "    \"Computes straight line y value\"\n",
    "    y = slope*x + intercept\n",
    "    return y\n",
    "\n",
    "print(\"y =\",straight_line(1,0,5)) #Actual Parameters\n",
    "print(\"y =\",straight_line(0,3,10))\n",
    "\n",
    "#By default, arguments have a positional behaviour\n",
    "#Each of the parameters here is called a formal parameter\n"
   ]
  },
  {
   "cell_type": "code",
   "execution_count": 3,
   "metadata": {},
   "outputs": [
    {
     "name": "stdout",
     "output_type": "stream",
     "text": [
      "5\n",
      "3\n"
     ]
    }
   ],
   "source": [
    "#Example_2\n",
    "def straight_line(slope,intercept,x):\n",
    "    y = slope*x + intercept\n",
    "    print(y)\n",
    "    \n",
    "    \n",
    "straight_line(1,0,5)\n",
    "straight_line(0,3,10)\n",
    "\n",
    "#By default, arguments have a positional behaviour\n",
    "#Functions can have no inputs or return."
   ]
  },
  {
   "cell_type": "markdown",
   "metadata": {},
   "source": [
    "### Question: Is it necessary to know the order of parametres to send values to a function?"
   ]
  },
  {
   "cell_type": "code",
   "execution_count": 4,
   "metadata": {},
   "outputs": [
    {
     "name": "stdout",
     "output_type": "stream",
     "text": [
      "13\n"
     ]
    }
   ],
   "source": [
    "\n",
    "straight_line(x=2,intercept=7,slope=3) "
   ]
  },
  {
   "cell_type": "markdown",
   "metadata": {},
   "source": [
    "### Passing values to functions"
   ]
  },
  {
   "cell_type": "code",
   "execution_count": 5,
   "metadata": {},
   "outputs": [
    {
     "name": "stdout",
     "output_type": "stream",
     "text": [
      "[0, 0, 0, 0, 0]\n"
     ]
    }
   ],
   "source": [
    "list_zeroes=[0 for x in range(0,5)]\n",
    "print(list_zeroes)    "
   ]
  },
  {
   "cell_type": "code",
   "execution_count": 6,
   "metadata": {},
   "outputs": [
    {
     "name": "stdout",
     "output_type": "stream",
     "text": [
      "[0, 1, 0, 0, 0]\n",
      "[0, 1, 0, 0, 0]\n"
     ]
    }
   ],
   "source": [
    "def case1(list1):\n",
    "    list1[1]=1\n",
    "    print(list1)\n",
    "    \n",
    "case1(list_zeroes)\n",
    "print(list_zeroes)    "
   ]
  },
  {
   "cell_type": "code",
   "execution_count": 7,
   "metadata": {},
   "outputs": [
    {
     "name": "stdout",
     "output_type": "stream",
     "text": [
      "[0, 0, 0, 0, 0]\n"
     ]
    }
   ],
   "source": [
    "#Passing variables to a function\n",
    "list_zeroes=[0 for x in range(0,5)]\n",
    "print(list_zeroes)    "
   ]
  },
  {
   "cell_type": "code",
   "execution_count": 8,
   "metadata": {},
   "outputs": [
    {
     "name": "stdout",
     "output_type": "stream",
     "text": [
      "[2, 3, 4, 5, 6]\n",
      "[0, 0, 0, 0, 0]\n"
     ]
    }
   ],
   "source": [
    "def case2(list1):\n",
    "    list1=[2,3,4,5,6]\n",
    "    print(list1)\n",
    "    \n",
    "case2(list_zeroes)\n",
    "print(list_zeroes)    \n"
   ]
  },
  {
   "cell_type": "markdown",
   "metadata": {},
   "source": [
    "### Conclusion: \n",
    "1. If the input is a mutable datatype, and we make changes to it, then the changes are refelected back on the original variable. (Case-1)\n",
    "2. If the input is a mutable datatype, and we assign a new value to it, then the changes are not refelected back on the original variable. (Case-2)"
   ]
  },
  {
   "cell_type": "markdown",
   "metadata": {},
   "source": [
    "#### Default Parameters"
   ]
  },
  {
   "cell_type": "code",
   "execution_count": 1,
   "metadata": {},
   "outputs": [
    {
     "name": "stdout",
     "output_type": "stream",
     "text": [
      "Enter value 1: 4\n",
      "Enter value 2: 7\n",
      "11\n",
      "-3\n"
     ]
    }
   ],
   "source": [
    "def calculator(num1,num2,operator='+'):\n",
    "    if (operator == '+'):\n",
    "        result = num1 + num2\n",
    "    elif(operator == '-'):\n",
    "        result = num1 - num2\n",
    "        \n",
    "    return result    \n",
    "\n",
    "n1=int(input(\"Enter value 1: \"))\n",
    "n2=int(input(\"Enter value 2: \"))\n",
    "v_1 = calculator(n1,n2)\n",
    "print(v_1)\n",
    "v_2 = calculator(n1,n2,'-')\n",
    "print(v_2)    \n",
    "\n",
    "# Here, the function main is termed as the caller function, and the function\n",
    "# calculator is termed as the called function\n",
    "# The operator parameter here is called a keyword-argument"
   ]
  },
  {
   "cell_type": "markdown",
   "metadata": {},
   "source": [
    "#### Initialization of variables within function definition"
   ]
  },
  {
   "cell_type": "code",
   "execution_count": 10,
   "metadata": {},
   "outputs": [
    {
     "name": "stdout",
     "output_type": "stream",
     "text": [
      "[1]\n",
      "[1, 2]\n",
      "[1, 2, 3]\n"
     ]
    }
   ],
   "source": [
    "\n",
    "def f(a, L=[]):\n",
    "    L.append(a)\n",
    "    return L\n",
    "\n",
    "print(f(1))\n",
    "print(f(2))\n",
    "print(f(3))\n",
    "\n",
    "# Caution ! The list L[] was initialised only once.\n",
    "#The paramter initialization to the default value happens at function definition and not at function call."
   ]
  },
  {
   "cell_type": "markdown",
   "metadata": {},
   "source": [
    "#### \\* operator\n",
    "    1. Unpacks a list or tuple into positional arguments\n",
    "#### \\*\\* operator\n",
    "    2. Unpacks a dictionary into keyword arguments"
   ]
  },
  {
   "cell_type": "markdown",
   "metadata": {},
   "source": [
    "## Types of parametres"
   ]
  },
  {
   "cell_type": "markdown",
   "metadata": {},
   "source": [
    "1. Formal parameters (Done above, repeat)\n",
    "2. Keyword Arguments (Done above, repeat)\n",
    "3. \\*variable_name : interprets the arguments as a tuple\n",
    "4. \\*\\*variable_name : interprets the arguments as a dictionary "
   ]
  },
  {
   "cell_type": "code",
   "execution_count": 2,
   "metadata": {},
   "outputs": [
    {
     "name": "stdout",
     "output_type": "stream",
     "text": [
      "15\n"
     ]
    }
   ],
   "source": [
    "def sum(*values):\n",
    "    s = 0\n",
    "    for v in values:\n",
    "        s = s + v\n",
    "    return s\n",
    "\n",
    "s = sum(1, 2, 3, 4, 5)\n",
    "print(s)"
   ]
  },
  {
   "cell_type": "code",
   "execution_count": 3,
   "metadata": {},
   "outputs": [
    {
     "name": "stdout",
     "output_type": "stream",
     "text": [
      "1\n"
     ]
    }
   ],
   "source": [
    "def get_a(**values):\n",
    "    return values['a']\n",
    "\n",
    "s = get_a(a=1, b=2)      # returns 1\n",
    "print(s)"
   ]
  },
  {
   "cell_type": "code",
   "execution_count": 4,
   "metadata": {},
   "outputs": [
    {
     "name": "stdout",
     "output_type": "stream",
     "text": [
      "15\n",
      "-15\n",
      "15\n"
     ]
    }
   ],
   "source": [
    "def sum(*values, **options):\n",
    "    s = 0\n",
    "    for i in values:\n",
    "        s = s + i\n",
    "    if \"neg\" in options:\n",
    "        if options[\"neg\"]:\n",
    "            s = -s\n",
    "    return s\n",
    "\n",
    "s = sum(1, 2, 3, 4, 5)            # returns 15\n",
    "print(s)\n",
    "s = sum(1, 2, 3, 4, 5, neg=True)  # returns -15\n",
    "print(s)\n",
    "s = sum(1, 2, 3, 4, 5, neg=False) # returns 15\n",
    "print(s)"
   ]
  },
  {
   "cell_type": "code",
   "execution_count": null,
   "metadata": {
    "collapsed": true
   },
   "outputs": [],
   "source": []
  }
 ],
 "metadata": {
  "kernelspec": {
   "display_name": "Python 3",
   "language": "python",
   "name": "python3"
  },
  "language_info": {
   "codemirror_mode": {
    "name": "ipython",
    "version": 3
   },
   "file_extension": ".py",
   "mimetype": "text/x-python",
   "name": "python",
   "nbconvert_exporter": "python",
   "pygments_lexer": "ipython3",
   "version": "3.5.2"
  }
 },
 "nbformat": 4,
 "nbformat_minor": 2
}
