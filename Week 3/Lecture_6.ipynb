{
 "cells": [
  {
   "cell_type": "markdown",
   "metadata": {},
   "source": [
    "# Lecture 6 - Modular Coding and basics of Object Oriented Programming\n",
    "-----------------------------------------------------------------------------------------------------"
   ]
  },
  {
   "cell_type": "markdown",
   "metadata": {},
   "source": [
    "In the last class we learnt how to enclose a certain block of code inside a function. Now an important question arises. How frequently should we do this ?\n",
    "\n",
    "A function extracts a computation out of your code, encapsulates it in a black box labeled by a name. Writing a function is like defining the meaning of a word before it is used in writing. Even if that word is used only once in your story you should surely write out it's definition if you think that makes writing more understandable."
   ]
  },
  {
   "cell_type": "markdown",
   "metadata": {},
   "source": [
    "## Modular Coding\n",
    "----------------------\n",
    "\n",
    "Modular coding is a software design technique which translates to decomposing the functionality of a larger program into independent parts. Each of those parts should more or less implement one aspect of the larger requisite functionality.\n",
    "\n",
    "In other words, you're implementing the divide-and-conquer paradigm at the method level. Other divide-and-conquer you may be witnessing in Algorithmic Thinking, but let's leave that for now."
   ]
  },
  {
   "cell_type": "markdown",
   "metadata": {},
   "source": [
    "### Examples\n",
    "\n",
    "First off, let us see some examples."
   ]
  },
  {
   "cell_type": "markdown",
   "metadata": {},
   "source": [
    "#### Bank\n",
    "\n",
    "If you visit a Bank to do an operation like a fund transfer then you'll have to interact with multiple entities such as the bank teller, clerk, account manager, maybe the ATM as well, etc. You get the point, right?\n",
    "\n",
    "The important thing to notice is that the task of \"fund transfer\" is being divided into smaller subtasks which are being performed by different people. The collective subresults of all those people involved get\n",
    "added up which finally results in a successful transfer.\n",
    "\n",
    "#### Comparing non-modular code with modular code\n",
    "\n",
    "Consider the following code : "
   ]
  },
  {
   "cell_type": "code",
   "execution_count": null,
   "metadata": {
    "collapsed": true
   },
   "outputs": [],
   "source": [
    "from math import sqrt\n",
    "import random\n",
    "\n",
    "line_segments = [((random.uniform(0, 1), random.uniform(0, 1)),\n",
    "                  (random.uniform(0, 1), random.uniform(0, 1))) \n",
    "                  for i in range(0, 1000)]\n",
    "positive_slope = len([segment\n",
    "                      for segment in line_segments\n",
    "                      if (segment[1][1] - segment[0][1])/(segment[1][0] - segment[0][0]) > 0\n",
    "                     ])\n",
    "print(\"Line segments with positive slope : \", positive_slope)"
   ]
  },
  {
   "cell_type": "markdown",
   "metadata": {},
   "source": [
    "Now let's make it modular :"
   ]
  },
  {
   "cell_type": "code",
   "execution_count": null,
   "metadata": {
    "collapsed": true
   },
   "outputs": [],
   "source": [
    "from math import sqrt\n",
    "import random as r\n",
    "\n",
    "def generate_point(x_range, y_range):\n",
    "    return (r.uniform(*x_range), r.uniform(*y_range))\n",
    "\n",
    "def slope(segment):\n",
    "    if segment[1][0] == segment[0][0]:\n",
    "        y_diff = segment[1][1] - segment[0][1]\n",
    "        return float('inf') * y_diff if y_diff != 0 else 0\n",
    "    else:\n",
    "        return (segment[1][1] - segment[0][1])/(segment[1][0] - segment[0][0])\n",
    "\n",
    "def generate_line_segments(x_range, y_range, count):\n",
    "    return [\n",
    "            (generate_point(x_range, y_range), generate_point(x_range, y_range))\n",
    "            for i in range(0, count)\n",
    "            ]\n",
    "\n",
    "def get_positive_sloped_segments(line_segments):\n",
    "    return [\n",
    "            segment\n",
    "            for segment in line_segments\n",
    "            if slope(segment) > 0\n",
    "           ]\n",
    "\n",
    "x_range = (0, 1)\n",
    "y_range = (0, 1)\n",
    "line_segments = generate_line_segments(x_range, y_range, 1000)\n",
    "positive_line_segments = get_positive_sloped_segments(line_segments)\n",
    "print(\"Line segments with positive slope : \", len(positive_line_segments))\n"
   ]
  },
  {
   "cell_type": "markdown",
   "metadata": {},
   "source": [
    "So, why is the above code better than the previous one in-spite of similar client level functionality ?  \n",
    "##### There are multple reasons :\n",
    "\n",
    "Efficient Program Development/Debugging : Say if you had to re-design a certain aspect of the main\n",
    "                                          functionality it's easier to do so in modular code.\n",
    "                                          This is because that aspect would be referenced by a function name\n",
    "                                          and if the code is well designed you would need to understand ONLY\n",
    "                                          that function in order to improve it.\n",
    "          \n",
    "          \n",
    "Re-use of the constituent modules : If you needed to compute the slope of a line segment in some other program\n",
    "                                    the slope method defined here can be re-used again.\n",
    "        "
   ]
  },
  {
   "cell_type": "markdown",
   "metadata": {},
   "source": [
    "#### Now consider this implementation : "
   ]
  },
  {
   "cell_type": "code",
   "execution_count": null,
   "metadata": {
    "collapsed": true
   },
   "outputs": [],
   "source": [
    "from math import sqrt\n",
    "import random as r\n",
    "\n",
    "def generate_point(x_range, y_range):\n",
    "    return (r.uniform(*x_range), r.uniform(*y_range))\n",
    "\n",
    "def compute_direction_cosines(segment):\n",
    "    dim = len(segment[0])\n",
    "    diff_between_points = [segment[1][i] - segment[0][i]\n",
    "                           for i in range(0, dim)]\n",
    "    distance_between_points = sqrt(sum([diff_between_points[i] ** 2\n",
    "                                        for i in range(0, dim)])) \n",
    "    return [i / distance_between_points\n",
    "            for i in diff_between_points]\n",
    "\n",
    "def is_positive_slope(segment):\n",
    "    dir_cosines = compute_direction_cosines(segment)\n",
    "    # 0 is positive, 1 is negative sign\n",
    "    is_positive = all([i >= 0 for i in dir_cosines]) or all([i < 0 for i in dir_cosines])\n",
    "    return is_positive\n",
    "    \n",
    "def generate_line_segments(count, x_range, y_range):\n",
    "    return [\n",
    "            (generate_point(x_range, y_range), generate_point(x_range, y_range))\n",
    "            for i in range(0, count)\n",
    "           ]\n",
    "\n",
    "def get_positive_sloped_segments(line_segments):\n",
    "    return [\n",
    "            segment\n",
    "            for segment in line_segments\n",
    "            if is_positive_slope(segment)\n",
    "           ]\n",
    "\n",
    "x_range = (0, 1)\n",
    "y_range = (0, 1)\n",
    "line_segments = generate_line_segments(1000, x_range, y_range)\n",
    "positive_line_segments = get_positive_sloped_segments(line_segments)\n",
    "print(\"Line segments with positive slope : \", len(positive_line_segments))\n"
   ]
  },
  {
   "cell_type": "markdown",
   "metadata": {},
   "source": [
    "Is it better than the previous ones ?\n",
    "\n",
    "Yes it is....Why though ?\n",
    "\n",
    "When writing modular code, one needs to keep in mind two models of software development:\n",
    "    1. Scalability\n",
    "    2. Robustness.\n",
    "\n",
    "Robustness means that your code can deal with incorrect input and runtime errors. This we haven't covered as of yet. Scalability means that your code should scale decently with increasing amount of work. Now this can be interpreted in multiple ways. It can mean than when amount of input increases then code should also scale correctly with it (i.e. not take unexpected amount of time). It can also mean that adding new features which depend on most/all of the submodules shouldn't be too much difficult. \n",
    "\n",
    "So, in the above code we can see the second characteristic of scalability in action.\n",
    "\n",
    "#### It can be seen that with some subtle changes the above code can be made to work for the 3D use-case as well.\n",
    "#### Such a thing is not possible with the code in Cells 70 and 71, because they use the restricted concept of slope of a line. The scalable concept of slope is direction cosines here and hence to make the code more modular, direction cosines are used.\n",
    "\n",
    "#### Let us try to scale it to 3D"
   ]
  },
  {
   "cell_type": "code",
   "execution_count": null,
   "metadata": {
    "collapsed": true
   },
   "outputs": [],
   "source": [
    "from math import sqrt\n",
    "import random as r\n",
    "\n",
    "\n",
    "def generate_point(x_range, y_range, z_range=None):\n",
    "    if z_range is None:\n",
    "        return (r.uniform(*x_range), r.uniform(*y_range))\n",
    "    return (r.uniform(*x_range), r.uniform(*y_range), r.uniform(*z_range))\n",
    "\n",
    "\n",
    "def compute_direction_cosines(segment):\n",
    "    # No change at all !\n",
    "    dim = len(segment[0])\n",
    "    diff_between_points = [segment[1][i] - segment[0][i]\n",
    "                           for i in range(0, dim)]\n",
    "    distance_between_points = sqrt(sum([diff_between_points[i] ** 2\n",
    "                                        for i in range(0, dim)])) \n",
    "    return [i / distance_between_points\n",
    "            for i in diff_between_points]\n",
    "\n",
    "\n",
    "def is_positive_slope(segment):\n",
    "    # No change at all !\n",
    "    dir_cosines = compute_direction_cosines(segment)\n",
    "    # 0 is positive, 1 is negative sign\n",
    "    is_positive = all([i >= 0 for i in dir_cosines]) or all([i < 0 for i in dir_cosines])\n",
    "    return is_positive\n",
    "\n",
    "\n",
    "def generate_line_segments(count, x_range, y_range, z_range=None):\n",
    "    dim = 2 if z_range is None else 3\n",
    "    return [\n",
    "             (generate_point(x_range, y_range, z_range),\n",
    "             generate_point(x_range, y_range, z_range))\n",
    "             for i in range(0, count)\n",
    "           ]\n",
    "\n",
    "\n",
    "def get_positive_sloped_segments(line_segments):\n",
    "    # No change at all !\n",
    "    return [\n",
    "            segment\n",
    "            for segment in line_segments\n",
    "            if is_positive_slope(segment)\n",
    "           ]\n",
    "\n",
    "\n",
    "x_range = (0, 1)\n",
    "y_range = (0, 1)\n",
    "z_range = (0, 1)\n",
    "line_segments = generate_line_segments(1000, x_range, y_range, z_range)\n",
    "positive_line_segments = get_positive_sloped_segments(line_segments)\n",
    "\n",
    "print(\"Line segments with positive slope : \", len(positive_line_segments))"
   ]
  },
  {
   "cell_type": "markdown",
   "metadata": {},
   "source": [
    "How to apply the divide and conquer paradigm effectively is something which can only be achieved through practice. Please do go through the practice problems on the repository and more importantly do the mini-project for the next\n",
    "week as well as you can."
   ]
  },
  {
   "cell_type": "markdown",
   "metadata": {},
   "source": [
    "## Object Oriented Programming\n",
    "-------------------------------------------"
   ]
  },
  {
   "cell_type": "markdown",
   "metadata": {},
   "source": [
    "Object-oriented programming (OOP) refers to a software design practice in which the programmer defines both data type of a data structure as well as methods that applied to it.  \n",
    "\n",
    "Consider a character in a video game(say Skyrim). That character you control as well as other non-playable ones in the game are internally represented by objects. When you strike a wild wolf in the game with your sword you are actually interacting with that character and affecting one of it's attributes, namely it's health.\n",
    "\n",
    "So, you can say that an object is an entity which has a current state described by some attributes and can perform some methods.\n",
    "\n",
    "Attributes : An attribute of an object is something that partly or wholly describes it's state.\n",
    "\n",
    "Methods : Methods of an object are the actions which the object can perform.\n",
    "\n",
    "Let us consider a living organism such as the simplest cell.\n",
    "\n",
    "Attributes :\n",
    "   1. Living (Boolean) : Can only be alive or dead.\n",
    "   2. In Motion (Boolean) : Can either be moving or not.\n",
    "   3. Speed (Float) : Can move at a specific speed at a given instant of time.  \n",
    "   .......  \n",
    "   \n",
    "Methods :\n",
    "   1. Ingest (void) : Ingest food that it finds.\n",
    "   2. Move (void) : Moves at a certain velocity.  \n",
    "   ......."
   ]
  },
  {
   "cell_type": "markdown",
   "metadata": {},
   "source": [
    "From next lecture we will begin to transform our abstract ideas about objects, their attributes and methods into concrete code."
   ]
  },
  {
   "cell_type": "markdown",
   "metadata": {},
   "source": [
    "## While and do-while"
   ]
  },
  {
   "cell_type": "code",
   "execution_count": null,
   "metadata": {
    "collapsed": true
   },
   "outputs": [],
   "source": [
    "while expression:\n",
    "    execute statement(s)"
   ]
  },
  {
   "cell_type": "code",
   "execution_count": 2,
   "metadata": {},
   "outputs": [
    {
     "name": "stdout",
     "output_type": "stream",
     "text": [
      "5 : 4 : 3 : 2 : 1 : "
     ]
    }
   ],
   "source": [
    "i = 5\n",
    "while i > 0:\n",
    "    print(i, end=\" : \")\n",
    "    i -= 1"
   ]
  },
  {
   "cell_type": "markdown",
   "metadata": {},
   "source": [
    "In most languages a do-while loop means that the loop body will be executed at least once. This is because the body is executed first and then the test condition is checked. Python doesn't natively have do-while loop. However it can be implemented in a certain fashion."
   ]
  },
  {
   "cell_type": "code",
   "execution_count": null,
   "metadata": {
    "collapsed": true
   },
   "outputs": [],
   "source": [
    "while True:\n",
    "  execute statement(s)\n",
    "  if fail_condition:\n",
    "    break"
   ]
  }
 ],
 "metadata": {
  "kernelspec": {
   "display_name": "Python 3",
   "language": "python",
   "name": "python3"
  },
  "language_info": {
   "codemirror_mode": {
    "name": "ipython",
    "version": 3
   },
   "file_extension": ".py",
   "mimetype": "text/x-python",
   "name": "python",
   "nbconvert_exporter": "python",
   "pygments_lexer": "ipython3",
   "version": "3.5.2"
  }
 },
 "nbformat": 4,
 "nbformat_minor": 2
}
