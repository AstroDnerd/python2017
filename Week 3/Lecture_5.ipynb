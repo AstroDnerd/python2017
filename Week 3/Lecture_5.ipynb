{
 "cells": [
  {
   "cell_type": "markdown",
   "metadata": {},
   "source": [
    "# Introduction to Programming : Lecture 5"
   ]
  },
  {
   "cell_type": "markdown",
   "metadata": {},
   "source": [
    "### Agenda for the class\n",
    "1. Iterators\n",
    "2. Introduction to functions\n",
    "3. Practice Questions"
   ]
  },
  {
   "cell_type": "code",
   "execution_count": null,
   "metadata": {},
   "outputs": [],
   "source": [
    "for i in range(5):\n",
    "    print(i,\" \",end='')\n",
    "    "
   ]
  },
  {
   "cell_type": "code",
   "execution_count": null,
   "metadata": {},
   "outputs": [],
   "source": [
    "for i in \"python\":\n",
    "    print(i,\" \",end='')"
   ]
  },
  {
   "cell_type": "code",
   "execution_count": null,
   "metadata": {},
   "outputs": [],
   "source": [
    "v1=3.14\n",
    "v2=1.61\n",
    "dict1={'key1':v1,'key2':v2}\n",
    "for keys in dict1:\n",
    "    print(keys,\" \",dict1[keys])"
   ]
  },
  {
   "cell_type": "code",
   "execution_count": null,
   "metadata": {},
   "outputs": [],
   "source": [
    "f=open(\"file1.txt\")\n",
    "for line in f:\n",
    "    print(line,end='')"
   ]
  },
  {
   "cell_type": "markdown",
   "metadata": {},
   "source": [
    "#### What is common in all of the above four?"
   ]
  },
  {
   "cell_type": "markdown",
   "metadata": {
    "collapsed": true
   },
   "source": [
    "## Functions in Python"
   ]
  },
  {
   "cell_type": "code",
   "execution_count": null,
   "metadata": {
    "collapsed": true
   },
   "outputs": [],
   "source": [
    "#Syntax\n",
    "def function_name(input_1,input_2,...):\n",
    "    '''\n",
    "    Process input to get output\n",
    "    '''\n",
    "    return [output1,output2]"
   ]
  },
  {
   "cell_type": "code",
   "execution_count": null,
   "metadata": {},
   "outputs": [],
   "source": [
    "#Example_1: return keyword\n",
    "def straight_line(slope,intercept,x):\n",
    "    \"Computes straight line y value\"\n",
    "    y = slope*x + intercept\n",
    "    return(y)\n",
    "\n",
    "print(\"y =\",straight_line(1,0,5))\n",
    "print(\"y =\",straight_line(0,3,10))\n",
    "\n",
    "#By default, arguments have a positional behaviour\n",
    "#Each of the parameters here is called a formal parameter\n"
   ]
  },
  {
   "cell_type": "code",
   "execution_count": null,
   "metadata": {},
   "outputs": [],
   "source": [
    "#Example_1\n",
    "def straight_line(slope,intercept,x):\n",
    "    y = slope*x + intercept\n",
    "    print(y)\n",
    "    \n",
    "    \n",
    "straight_line(1,0,5)\n",
    "straight_line(0,3,10)\n",
    "\n",
    "#By default, arguments have a positional behaviour\n"
   ]
  },
  {
   "cell_type": "code",
   "execution_count": null,
   "metadata": {},
   "outputs": [],
   "source": [
    "#Question: Is it necessary to know the order of parametres to send values to a function?\n",
    "straight_line(x=2,intercept=7,slope=3)"
   ]
  },
  {
   "cell_type": "markdown",
   "metadata": {},
   "source": [
    "### Passing values to functions"
   ]
  },
  {
   "cell_type": "code",
   "execution_count": null,
   "metadata": {},
   "outputs": [],
   "source": [
    "s=\"Hello World!\"\n",
    "def change_string(s):\n",
    "    s[0]='T'\n",
    "    print(s)\n",
    "change_string(s)  "
   ]
  },
  {
   "cell_type": "code",
   "execution_count": null,
   "metadata": {},
   "outputs": [],
   "source": [
    "s=\"Hello World!\"\n",
    "print(s)\n",
    "\n",
    "def assign_string(s):\n",
    "    s=\"Bye World!\"\n",
    "    print(s)\n",
    "\n",
    "assign_string(s)\n",
    "print(s)"
   ]
  },
  {
   "cell_type": "code",
   "execution_count": null,
   "metadata": {},
   "outputs": [],
   "source": [
    "list_zeroes=[0 for x in range(0,5)]\n",
    "print(list_zeroes)    "
   ]
  },
  {
   "cell_type": "code",
   "execution_count": null,
   "metadata": {},
   "outputs": [],
   "source": [
    "def case1(list_zeroes):\n",
    "    list_zeroes[1]=1\n",
    "    #print(list_zeroes)\n",
    "    \n",
    "case1(list_zeroes)\n",
    "print(list_zeroes)    "
   ]
  },
  {
   "cell_type": "code",
   "execution_count": null,
   "metadata": {},
   "outputs": [],
   "source": [
    "#Passing variables to a function\n",
    "list_zeroes=[0 for x in range(0,5)]\n",
    "print(list_zeroes)    "
   ]
  },
  {
   "cell_type": "code",
   "execution_count": null,
   "metadata": {},
   "outputs": [],
   "source": [
    "def case2(list1):\n",
    "    list1=[2,3,4,5,6]\n",
    "    print(list1)\n",
    "    \n",
    "case2(list_zeroes)\n",
    "print(list_zeroes)    \n"
   ]
  },
  {
   "cell_type": "markdown",
   "metadata": {},
   "source": [
    "### Conclusion: \n",
    "1. If the input is a mutable datatype, and we make changes to it, then the changes are refelected back on the original variable. (Case-1)\n",
    "2. If the input is a mutable datatype, and we assign a new value to it, then the changes are not refelected back on the original variable. (Case-2)\n",
    "3. If the input is a immutable datatype, then we can't change the value of the variable in the function. (change_string())\n",
    "4. If the input is a immutable datatype, then we can assign a new value to it within the function, and changes are not reflected back"
   ]
  },
  {
   "cell_type": "markdown",
   "metadata": {},
   "source": [
    "#### Default Parameters"
   ]
  },
  {
   "cell_type": "code",
   "execution_count": null,
   "metadata": {},
   "outputs": [],
   "source": [
    "def calculator(num1,operator='+',num1):\n",
    "    if (operator == '+'):\n",
    "        result = num1 + num2\n",
    "    elif(operator == '-'):\n",
    "        result = num1 - num2\n",
    "        \n",
    "    return result    \n",
    "\n",
    "n1=int(input(\"Enter value 1: \"))\n",
    "n2=int(input(\"Enter value 2: \"))\n",
    "#v_1 = calculator(n1,n2)\n",
    "#print(v_1)\n",
    "v_2 = calculator(n1,n2,'-')\n",
    "print(v_2)    \n",
    "\n",
    "# Here, the function main is termed as the caller function, and the function\n",
    "# calculator is termed as the called function\n",
    "# The operator parameter here is called a keyword-argument"
   ]
  },
  {
   "cell_type": "markdown",
   "metadata": {},
   "source": [
    "#### Initialization of variables within function definition"
   ]
  },
  {
   "cell_type": "code",
   "execution_count": null,
   "metadata": {},
   "outputs": [],
   "source": [
    "\n",
    "def f(a, L=[]):\n",
    "    L.append(a)\n",
    "    return L\n",
    "\n",
    "print(f(1))\n",
    "print(f(2))\n",
    "print(f(3))\n",
    "\n",
    "# Caution ! The list L[] was initialised only once.\n",
    "#The paramter initialization to the default value happens at function definition and not at function call."
   ]
  },
  {
   "cell_type": "markdown",
   "metadata": {},
   "source": [
    "#### \\* operator\n",
    "1. Unpacks a list or tuple\n",
    "#### \\*\\* operator\n",
    "2. Unpacks a dictionary"
   ]
  },
  {
   "cell_type": "markdown",
   "metadata": {},
   "source": [
    "## Types of parametres"
   ]
  },
  {
   "cell_type": "markdown",
   "metadata": {},
   "source": [
    "1. Formal parameters (Done above, repeat)\n",
    "2. Keyword Arguments (Done above, repeat)\n",
    "3. \\*variable_name : Interpreted as being a part of input tuple of arguments\n",
    "4. \\*\\*variable_name : Interpreted as being a part of input dictionary of arguments "
   ]
  },
  {
   "cell_type": "code",
   "execution_count": null,
   "metadata": {},
   "outputs": [],
   "source": [
    "def sum_values(*values):\n",
    "    s = 0\n",
    "    for v in values:\n",
    "        s = s + v\n",
    "    return s\n",
    "\n",
    "s = sum_values(1, 2, 3, 4, 5)\n",
    "print(s)"
   ]
  },
  {
   "cell_type": "code",
   "execution_count": null,
   "metadata": {},
   "outputs": [],
   "source": [
    "def get_a(**values):\n",
    "    return values['a']\n",
    "\n",
    "s = get_a(a=1, b=2)      # returns 1\n",
    "print(s)"
   ]
  },
  {
   "cell_type": "code",
   "execution_count": null,
   "metadata": {},
   "outputs": [],
   "source": [
    "def sum(*values, **options):\n",
    "    s = 0\n",
    "    for i in values:\n",
    "        s = s + i\n",
    "    if \"neg\" in options:\n",
    "        if options[\"neg\"]:\n",
    "            s = -s\n",
    "    return s\n",
    "\n",
    "s = sum(1, 2, 3, 4, 5)            # returns\n",
    "print(s)\n",
    "s = sum(1, 2, 3, 4, 5, neg=True)  # returns \n",
    "print(s)\n",
    "s = sum(1, 2, 3, 4, 5, neg=False) # return\n",
    "print(s)"
   ]
  },
  {
   "cell_type": "code",
   "execution_count": null,
   "metadata": {
    "collapsed": true
   },
   "outputs": [],
   "source": []
  }
 ],
 "metadata": {
  "kernelspec": {
   "display_name": "Python 3",
   "language": "python",
   "name": "python3"
  },
  "language_info": {
   "codemirror_mode": {
    "name": "ipython",
    "version": 3
   },
   "file_extension": ".py",
   "mimetype": "text/x-python",
   "name": "python",
   "nbconvert_exporter": "python",
   "pygments_lexer": "ipython3",
   "version": "3.5.2"
  }
 },
 "nbformat": 4,
 "nbformat_minor": 2
}
